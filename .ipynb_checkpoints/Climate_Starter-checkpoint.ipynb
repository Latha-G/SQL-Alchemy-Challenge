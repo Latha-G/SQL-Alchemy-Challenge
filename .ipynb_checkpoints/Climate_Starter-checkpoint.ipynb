{
 "cells": [
  {
   "cell_type": "markdown",
   "metadata": {},
   "source": [
    "___\n",
    "# _<font color = E50FB4>Climate Analysis and Exploration<font>_\n",
    "___"
   ]
  },
  {
   "cell_type": "code",
   "execution_count": 50,
   "metadata": {},
   "outputs": [],
   "source": [
    "# Dependencies\n",
    "\n",
    "import numpy as np\n",
    "import pandas as pd\n",
    "\n",
    "import matplotlib.pyplot as plt\n",
    "from matplotlib import style\n",
    "%matplotlib inline\n",
    "\n",
    "style.use('dark_background')\n",
    "\n",
    "#style.use('fivethirtyeight')\n",
    "\n",
    "# Python SQL toolkit and Object Relational Mapper\n",
    "\n",
    "import sqlalchemy\n",
    "from sqlalchemy import create_engine, func,inspect\n",
    "from sqlalchemy.ext.automap import automap_base\n",
    "from sqlalchemy.orm import Session"
   ]
  },
  {
   "cell_type": "markdown",
   "metadata": {},
   "source": [
    "___\n",
    "### _<font color = darkblue>Method-1: Retrieve the tables using <font color = E50FB4>'Pandas read_sql'_\n",
    "___"
   ]
  },
  {
   "cell_type": "code",
   "execution_count": 51,
   "metadata": {},
   "outputs": [],
   "source": [
    "# Create an engine and connection to the database\n",
    "\n",
    "engine = create_engine(\"sqlite:///Resources/hawaii.sqlite\")\n",
    "\n",
    "connection = engine.connect()"
   ]
  },
  {
   "cell_type": "code",
   "execution_count": 52,
   "metadata": {},
   "outputs": [
    {
     "name": "stdout",
     "output_type": "stream",
     "text": [
      "['measurement', 'station']\n"
     ]
    }
   ],
   "source": [
    "# Print all table names in database\n",
    "\n",
    "print(engine.table_names())"
   ]
  },
  {
   "cell_type": "code",
   "execution_count": 53,
   "metadata": {},
   "outputs": [
    {
     "data": {
      "text/html": [
       "<style  type=\"text/css\" >\n",
       "    #T_277026d6_9805_11ea_aca6_acde48001122row0_col0 {\n",
       "            background-color:  black;\n",
       "            color:  cyan;\n",
       "        }    #T_277026d6_9805_11ea_aca6_acde48001122row0_col1 {\n",
       "            background-color:  black;\n",
       "            color:  cyan;\n",
       "        }    #T_277026d6_9805_11ea_aca6_acde48001122row0_col2 {\n",
       "            background-color:  black;\n",
       "            color:  cyan;\n",
       "        }    #T_277026d6_9805_11ea_aca6_acde48001122row0_col3 {\n",
       "            background-color:  black;\n",
       "            color:  cyan;\n",
       "        }    #T_277026d6_9805_11ea_aca6_acde48001122row0_col4 {\n",
       "            background-color:  black;\n",
       "            color:  cyan;\n",
       "        }    #T_277026d6_9805_11ea_aca6_acde48001122row1_col0 {\n",
       "            background-color:  black;\n",
       "            color:  cyan;\n",
       "        }    #T_277026d6_9805_11ea_aca6_acde48001122row1_col1 {\n",
       "            background-color:  black;\n",
       "            color:  cyan;\n",
       "        }    #T_277026d6_9805_11ea_aca6_acde48001122row1_col2 {\n",
       "            background-color:  black;\n",
       "            color:  cyan;\n",
       "        }    #T_277026d6_9805_11ea_aca6_acde48001122row1_col3 {\n",
       "            background-color:  black;\n",
       "            color:  cyan;\n",
       "        }    #T_277026d6_9805_11ea_aca6_acde48001122row1_col4 {\n",
       "            background-color:  black;\n",
       "            color:  cyan;\n",
       "        }    #T_277026d6_9805_11ea_aca6_acde48001122row2_col0 {\n",
       "            background-color:  black;\n",
       "            color:  cyan;\n",
       "        }    #T_277026d6_9805_11ea_aca6_acde48001122row2_col1 {\n",
       "            background-color:  black;\n",
       "            color:  cyan;\n",
       "        }    #T_277026d6_9805_11ea_aca6_acde48001122row2_col2 {\n",
       "            background-color:  black;\n",
       "            color:  cyan;\n",
       "        }    #T_277026d6_9805_11ea_aca6_acde48001122row2_col3 {\n",
       "            background-color:  black;\n",
       "            color:  cyan;\n",
       "        }    #T_277026d6_9805_11ea_aca6_acde48001122row2_col4 {\n",
       "            background-color:  black;\n",
       "            color:  cyan;\n",
       "        }    #T_277026d6_9805_11ea_aca6_acde48001122row3_col0 {\n",
       "            background-color:  black;\n",
       "            color:  cyan;\n",
       "        }    #T_277026d6_9805_11ea_aca6_acde48001122row3_col1 {\n",
       "            background-color:  black;\n",
       "            color:  cyan;\n",
       "        }    #T_277026d6_9805_11ea_aca6_acde48001122row3_col2 {\n",
       "            background-color:  black;\n",
       "            color:  cyan;\n",
       "        }    #T_277026d6_9805_11ea_aca6_acde48001122row3_col3 {\n",
       "            background-color:  black;\n",
       "            color:  cyan;\n",
       "        }    #T_277026d6_9805_11ea_aca6_acde48001122row3_col4 {\n",
       "            background-color:  black;\n",
       "            color:  cyan;\n",
       "        }    #T_277026d6_9805_11ea_aca6_acde48001122row4_col0 {\n",
       "            background-color:  black;\n",
       "            color:  cyan;\n",
       "        }    #T_277026d6_9805_11ea_aca6_acde48001122row4_col1 {\n",
       "            background-color:  black;\n",
       "            color:  cyan;\n",
       "        }    #T_277026d6_9805_11ea_aca6_acde48001122row4_col2 {\n",
       "            background-color:  black;\n",
       "            color:  cyan;\n",
       "        }    #T_277026d6_9805_11ea_aca6_acde48001122row4_col3 {\n",
       "            background-color:  black;\n",
       "            color:  cyan;\n",
       "        }    #T_277026d6_9805_11ea_aca6_acde48001122row4_col4 {\n",
       "            background-color:  black;\n",
       "            color:  cyan;\n",
       "        }    #T_277026d6_9805_11ea_aca6_acde48001122row5_col0 {\n",
       "            background-color:  black;\n",
       "            color:  cyan;\n",
       "        }    #T_277026d6_9805_11ea_aca6_acde48001122row5_col1 {\n",
       "            background-color:  black;\n",
       "            color:  cyan;\n",
       "        }    #T_277026d6_9805_11ea_aca6_acde48001122row5_col2 {\n",
       "            background-color:  black;\n",
       "            color:  cyan;\n",
       "        }    #T_277026d6_9805_11ea_aca6_acde48001122row5_col3 {\n",
       "            background-color:  black;\n",
       "            color:  cyan;\n",
       "        }    #T_277026d6_9805_11ea_aca6_acde48001122row5_col4 {\n",
       "            background-color:  black;\n",
       "            color:  cyan;\n",
       "        }    #T_277026d6_9805_11ea_aca6_acde48001122row6_col0 {\n",
       "            background-color:  black;\n",
       "            color:  cyan;\n",
       "        }    #T_277026d6_9805_11ea_aca6_acde48001122row6_col1 {\n",
       "            background-color:  black;\n",
       "            color:  cyan;\n",
       "        }    #T_277026d6_9805_11ea_aca6_acde48001122row6_col2 {\n",
       "            background-color:  black;\n",
       "            color:  cyan;\n",
       "        }    #T_277026d6_9805_11ea_aca6_acde48001122row6_col3 {\n",
       "            background-color:  black;\n",
       "            color:  cyan;\n",
       "        }    #T_277026d6_9805_11ea_aca6_acde48001122row6_col4 {\n",
       "            background-color:  black;\n",
       "            color:  cyan;\n",
       "        }    #T_277026d6_9805_11ea_aca6_acde48001122row7_col0 {\n",
       "            background-color:  black;\n",
       "            color:  cyan;\n",
       "        }    #T_277026d6_9805_11ea_aca6_acde48001122row7_col1 {\n",
       "            background-color:  black;\n",
       "            color:  cyan;\n",
       "        }    #T_277026d6_9805_11ea_aca6_acde48001122row7_col2 {\n",
       "            background-color:  black;\n",
       "            color:  cyan;\n",
       "        }    #T_277026d6_9805_11ea_aca6_acde48001122row7_col3 {\n",
       "            background-color:  black;\n",
       "            color:  cyan;\n",
       "        }    #T_277026d6_9805_11ea_aca6_acde48001122row7_col4 {\n",
       "            background-color:  black;\n",
       "            color:  cyan;\n",
       "        }    #T_277026d6_9805_11ea_aca6_acde48001122row8_col0 {\n",
       "            background-color:  black;\n",
       "            color:  cyan;\n",
       "        }    #T_277026d6_9805_11ea_aca6_acde48001122row8_col1 {\n",
       "            background-color:  black;\n",
       "            color:  cyan;\n",
       "        }    #T_277026d6_9805_11ea_aca6_acde48001122row8_col2 {\n",
       "            background-color:  black;\n",
       "            color:  cyan;\n",
       "        }    #T_277026d6_9805_11ea_aca6_acde48001122row8_col3 {\n",
       "            background-color:  black;\n",
       "            color:  cyan;\n",
       "        }    #T_277026d6_9805_11ea_aca6_acde48001122row8_col4 {\n",
       "            background-color:  black;\n",
       "            color:  cyan;\n",
       "        }    #T_277026d6_9805_11ea_aca6_acde48001122row9_col0 {\n",
       "            background-color:  black;\n",
       "            color:  cyan;\n",
       "        }    #T_277026d6_9805_11ea_aca6_acde48001122row9_col1 {\n",
       "            background-color:  black;\n",
       "            color:  cyan;\n",
       "        }    #T_277026d6_9805_11ea_aca6_acde48001122row9_col2 {\n",
       "            background-color:  black;\n",
       "            color:  cyan;\n",
       "        }    #T_277026d6_9805_11ea_aca6_acde48001122row9_col3 {\n",
       "            background-color:  black;\n",
       "            color:  cyan;\n",
       "        }    #T_277026d6_9805_11ea_aca6_acde48001122row9_col4 {\n",
       "            background-color:  black;\n",
       "            color:  cyan;\n",
       "        }</style><table id=\"T_277026d6_9805_11ea_aca6_acde48001122\" ><thead>    <tr>        <th class=\"blank level0\" ></th>        <th class=\"col_heading level0 col0\" >id</th>        <th class=\"col_heading level0 col1\" >station</th>        <th class=\"col_heading level0 col2\" >date</th>        <th class=\"col_heading level0 col3\" >prcp</th>        <th class=\"col_heading level0 col4\" >tobs</th>    </tr></thead><tbody>\n",
       "                <tr>\n",
       "                        <th id=\"T_277026d6_9805_11ea_aca6_acde48001122level0_row0\" class=\"row_heading level0 row0\" >0</th>\n",
       "                        <td id=\"T_277026d6_9805_11ea_aca6_acde48001122row0_col0\" class=\"data row0 col0\" >1</td>\n",
       "                        <td id=\"T_277026d6_9805_11ea_aca6_acde48001122row0_col1\" class=\"data row0 col1\" >USC00519397</td>\n",
       "                        <td id=\"T_277026d6_9805_11ea_aca6_acde48001122row0_col2\" class=\"data row0 col2\" >2010-01-01</td>\n",
       "                        <td id=\"T_277026d6_9805_11ea_aca6_acde48001122row0_col3\" class=\"data row0 col3\" >0.08</td>\n",
       "                        <td id=\"T_277026d6_9805_11ea_aca6_acde48001122row0_col4\" class=\"data row0 col4\" >65</td>\n",
       "            </tr>\n",
       "            <tr>\n",
       "                        <th id=\"T_277026d6_9805_11ea_aca6_acde48001122level0_row1\" class=\"row_heading level0 row1\" >1</th>\n",
       "                        <td id=\"T_277026d6_9805_11ea_aca6_acde48001122row1_col0\" class=\"data row1 col0\" >2</td>\n",
       "                        <td id=\"T_277026d6_9805_11ea_aca6_acde48001122row1_col1\" class=\"data row1 col1\" >USC00519397</td>\n",
       "                        <td id=\"T_277026d6_9805_11ea_aca6_acde48001122row1_col2\" class=\"data row1 col2\" >2010-01-02</td>\n",
       "                        <td id=\"T_277026d6_9805_11ea_aca6_acde48001122row1_col3\" class=\"data row1 col3\" >0</td>\n",
       "                        <td id=\"T_277026d6_9805_11ea_aca6_acde48001122row1_col4\" class=\"data row1 col4\" >63</td>\n",
       "            </tr>\n",
       "            <tr>\n",
       "                        <th id=\"T_277026d6_9805_11ea_aca6_acde48001122level0_row2\" class=\"row_heading level0 row2\" >2</th>\n",
       "                        <td id=\"T_277026d6_9805_11ea_aca6_acde48001122row2_col0\" class=\"data row2 col0\" >3</td>\n",
       "                        <td id=\"T_277026d6_9805_11ea_aca6_acde48001122row2_col1\" class=\"data row2 col1\" >USC00519397</td>\n",
       "                        <td id=\"T_277026d6_9805_11ea_aca6_acde48001122row2_col2\" class=\"data row2 col2\" >2010-01-03</td>\n",
       "                        <td id=\"T_277026d6_9805_11ea_aca6_acde48001122row2_col3\" class=\"data row2 col3\" >0</td>\n",
       "                        <td id=\"T_277026d6_9805_11ea_aca6_acde48001122row2_col4\" class=\"data row2 col4\" >74</td>\n",
       "            </tr>\n",
       "            <tr>\n",
       "                        <th id=\"T_277026d6_9805_11ea_aca6_acde48001122level0_row3\" class=\"row_heading level0 row3\" >3</th>\n",
       "                        <td id=\"T_277026d6_9805_11ea_aca6_acde48001122row3_col0\" class=\"data row3 col0\" >4</td>\n",
       "                        <td id=\"T_277026d6_9805_11ea_aca6_acde48001122row3_col1\" class=\"data row3 col1\" >USC00519397</td>\n",
       "                        <td id=\"T_277026d6_9805_11ea_aca6_acde48001122row3_col2\" class=\"data row3 col2\" >2010-01-04</td>\n",
       "                        <td id=\"T_277026d6_9805_11ea_aca6_acde48001122row3_col3\" class=\"data row3 col3\" >0</td>\n",
       "                        <td id=\"T_277026d6_9805_11ea_aca6_acde48001122row3_col4\" class=\"data row3 col4\" >76</td>\n",
       "            </tr>\n",
       "            <tr>\n",
       "                        <th id=\"T_277026d6_9805_11ea_aca6_acde48001122level0_row4\" class=\"row_heading level0 row4\" >4</th>\n",
       "                        <td id=\"T_277026d6_9805_11ea_aca6_acde48001122row4_col0\" class=\"data row4 col0\" >5</td>\n",
       "                        <td id=\"T_277026d6_9805_11ea_aca6_acde48001122row4_col1\" class=\"data row4 col1\" >USC00519397</td>\n",
       "                        <td id=\"T_277026d6_9805_11ea_aca6_acde48001122row4_col2\" class=\"data row4 col2\" >2010-01-06</td>\n",
       "                        <td id=\"T_277026d6_9805_11ea_aca6_acde48001122row4_col3\" class=\"data row4 col3\" >nan</td>\n",
       "                        <td id=\"T_277026d6_9805_11ea_aca6_acde48001122row4_col4\" class=\"data row4 col4\" >73</td>\n",
       "            </tr>\n",
       "            <tr>\n",
       "                        <th id=\"T_277026d6_9805_11ea_aca6_acde48001122level0_row5\" class=\"row_heading level0 row5\" >5</th>\n",
       "                        <td id=\"T_277026d6_9805_11ea_aca6_acde48001122row5_col0\" class=\"data row5 col0\" >6</td>\n",
       "                        <td id=\"T_277026d6_9805_11ea_aca6_acde48001122row5_col1\" class=\"data row5 col1\" >USC00519397</td>\n",
       "                        <td id=\"T_277026d6_9805_11ea_aca6_acde48001122row5_col2\" class=\"data row5 col2\" >2010-01-07</td>\n",
       "                        <td id=\"T_277026d6_9805_11ea_aca6_acde48001122row5_col3\" class=\"data row5 col3\" >0.06</td>\n",
       "                        <td id=\"T_277026d6_9805_11ea_aca6_acde48001122row5_col4\" class=\"data row5 col4\" >70</td>\n",
       "            </tr>\n",
       "            <tr>\n",
       "                        <th id=\"T_277026d6_9805_11ea_aca6_acde48001122level0_row6\" class=\"row_heading level0 row6\" >6</th>\n",
       "                        <td id=\"T_277026d6_9805_11ea_aca6_acde48001122row6_col0\" class=\"data row6 col0\" >7</td>\n",
       "                        <td id=\"T_277026d6_9805_11ea_aca6_acde48001122row6_col1\" class=\"data row6 col1\" >USC00519397</td>\n",
       "                        <td id=\"T_277026d6_9805_11ea_aca6_acde48001122row6_col2\" class=\"data row6 col2\" >2010-01-08</td>\n",
       "                        <td id=\"T_277026d6_9805_11ea_aca6_acde48001122row6_col3\" class=\"data row6 col3\" >0</td>\n",
       "                        <td id=\"T_277026d6_9805_11ea_aca6_acde48001122row6_col4\" class=\"data row6 col4\" >64</td>\n",
       "            </tr>\n",
       "            <tr>\n",
       "                        <th id=\"T_277026d6_9805_11ea_aca6_acde48001122level0_row7\" class=\"row_heading level0 row7\" >7</th>\n",
       "                        <td id=\"T_277026d6_9805_11ea_aca6_acde48001122row7_col0\" class=\"data row7 col0\" >8</td>\n",
       "                        <td id=\"T_277026d6_9805_11ea_aca6_acde48001122row7_col1\" class=\"data row7 col1\" >USC00519397</td>\n",
       "                        <td id=\"T_277026d6_9805_11ea_aca6_acde48001122row7_col2\" class=\"data row7 col2\" >2010-01-09</td>\n",
       "                        <td id=\"T_277026d6_9805_11ea_aca6_acde48001122row7_col3\" class=\"data row7 col3\" >0</td>\n",
       "                        <td id=\"T_277026d6_9805_11ea_aca6_acde48001122row7_col4\" class=\"data row7 col4\" >68</td>\n",
       "            </tr>\n",
       "            <tr>\n",
       "                        <th id=\"T_277026d6_9805_11ea_aca6_acde48001122level0_row8\" class=\"row_heading level0 row8\" >8</th>\n",
       "                        <td id=\"T_277026d6_9805_11ea_aca6_acde48001122row8_col0\" class=\"data row8 col0\" >9</td>\n",
       "                        <td id=\"T_277026d6_9805_11ea_aca6_acde48001122row8_col1\" class=\"data row8 col1\" >USC00519397</td>\n",
       "                        <td id=\"T_277026d6_9805_11ea_aca6_acde48001122row8_col2\" class=\"data row8 col2\" >2010-01-10</td>\n",
       "                        <td id=\"T_277026d6_9805_11ea_aca6_acde48001122row8_col3\" class=\"data row8 col3\" >0</td>\n",
       "                        <td id=\"T_277026d6_9805_11ea_aca6_acde48001122row8_col4\" class=\"data row8 col4\" >73</td>\n",
       "            </tr>\n",
       "            <tr>\n",
       "                        <th id=\"T_277026d6_9805_11ea_aca6_acde48001122level0_row9\" class=\"row_heading level0 row9\" >9</th>\n",
       "                        <td id=\"T_277026d6_9805_11ea_aca6_acde48001122row9_col0\" class=\"data row9 col0\" >10</td>\n",
       "                        <td id=\"T_277026d6_9805_11ea_aca6_acde48001122row9_col1\" class=\"data row9 col1\" >USC00519397</td>\n",
       "                        <td id=\"T_277026d6_9805_11ea_aca6_acde48001122row9_col2\" class=\"data row9 col2\" >2010-01-11</td>\n",
       "                        <td id=\"T_277026d6_9805_11ea_aca6_acde48001122row9_col3\" class=\"data row9 col3\" >0.01</td>\n",
       "                        <td id=\"T_277026d6_9805_11ea_aca6_acde48001122row9_col4\" class=\"data row9 col4\" >64</td>\n",
       "            </tr>\n",
       "    </tbody></table>"
      ],
      "text/plain": [
       "<pandas.io.formats.style.Styler at 0x1200b6090>"
      ]
     },
     "execution_count": 53,
     "metadata": {},
     "output_type": "execute_result"
    }
   ],
   "source": [
    "# Retrieve the data from 'measurement' table\n",
    "\n",
    "Measurement_df = pd.read_sql('select * from measurement', connection)\n",
    "\n",
    "Measurement_df.set_index('id', drop = True)\n",
    "\n",
    "Measurement_df.head(10).style.set_properties(**{'background-color': 'black','color': 'cyan',})"
   ]
  },
  {
   "cell_type": "code",
   "execution_count": 54,
   "metadata": {},
   "outputs": [
    {
     "data": {
      "text/html": [
       "<style  type=\"text/css\" >\n",
       "    #T_27c91c50_9805_11ea_aca6_acde48001122row0_col0 {\n",
       "            background-color:  black;\n",
       "            color:  cyan;\n",
       "        }    #T_27c91c50_9805_11ea_aca6_acde48001122row0_col1 {\n",
       "            background-color:  black;\n",
       "            color:  cyan;\n",
       "        }    #T_27c91c50_9805_11ea_aca6_acde48001122row0_col2 {\n",
       "            background-color:  black;\n",
       "            color:  cyan;\n",
       "        }    #T_27c91c50_9805_11ea_aca6_acde48001122row0_col3 {\n",
       "            background-color:  black;\n",
       "            color:  cyan;\n",
       "        }    #T_27c91c50_9805_11ea_aca6_acde48001122row0_col4 {\n",
       "            background-color:  black;\n",
       "            color:  cyan;\n",
       "        }    #T_27c91c50_9805_11ea_aca6_acde48001122row0_col5 {\n",
       "            background-color:  black;\n",
       "            color:  cyan;\n",
       "        }    #T_27c91c50_9805_11ea_aca6_acde48001122row1_col0 {\n",
       "            background-color:  black;\n",
       "            color:  cyan;\n",
       "        }    #T_27c91c50_9805_11ea_aca6_acde48001122row1_col1 {\n",
       "            background-color:  black;\n",
       "            color:  cyan;\n",
       "        }    #T_27c91c50_9805_11ea_aca6_acde48001122row1_col2 {\n",
       "            background-color:  black;\n",
       "            color:  cyan;\n",
       "        }    #T_27c91c50_9805_11ea_aca6_acde48001122row1_col3 {\n",
       "            background-color:  black;\n",
       "            color:  cyan;\n",
       "        }    #T_27c91c50_9805_11ea_aca6_acde48001122row1_col4 {\n",
       "            background-color:  black;\n",
       "            color:  cyan;\n",
       "        }    #T_27c91c50_9805_11ea_aca6_acde48001122row1_col5 {\n",
       "            background-color:  black;\n",
       "            color:  cyan;\n",
       "        }    #T_27c91c50_9805_11ea_aca6_acde48001122row2_col0 {\n",
       "            background-color:  black;\n",
       "            color:  cyan;\n",
       "        }    #T_27c91c50_9805_11ea_aca6_acde48001122row2_col1 {\n",
       "            background-color:  black;\n",
       "            color:  cyan;\n",
       "        }    #T_27c91c50_9805_11ea_aca6_acde48001122row2_col2 {\n",
       "            background-color:  black;\n",
       "            color:  cyan;\n",
       "        }    #T_27c91c50_9805_11ea_aca6_acde48001122row2_col3 {\n",
       "            background-color:  black;\n",
       "            color:  cyan;\n",
       "        }    #T_27c91c50_9805_11ea_aca6_acde48001122row2_col4 {\n",
       "            background-color:  black;\n",
       "            color:  cyan;\n",
       "        }    #T_27c91c50_9805_11ea_aca6_acde48001122row2_col5 {\n",
       "            background-color:  black;\n",
       "            color:  cyan;\n",
       "        }    #T_27c91c50_9805_11ea_aca6_acde48001122row3_col0 {\n",
       "            background-color:  black;\n",
       "            color:  cyan;\n",
       "        }    #T_27c91c50_9805_11ea_aca6_acde48001122row3_col1 {\n",
       "            background-color:  black;\n",
       "            color:  cyan;\n",
       "        }    #T_27c91c50_9805_11ea_aca6_acde48001122row3_col2 {\n",
       "            background-color:  black;\n",
       "            color:  cyan;\n",
       "        }    #T_27c91c50_9805_11ea_aca6_acde48001122row3_col3 {\n",
       "            background-color:  black;\n",
       "            color:  cyan;\n",
       "        }    #T_27c91c50_9805_11ea_aca6_acde48001122row3_col4 {\n",
       "            background-color:  black;\n",
       "            color:  cyan;\n",
       "        }    #T_27c91c50_9805_11ea_aca6_acde48001122row3_col5 {\n",
       "            background-color:  black;\n",
       "            color:  cyan;\n",
       "        }    #T_27c91c50_9805_11ea_aca6_acde48001122row4_col0 {\n",
       "            background-color:  black;\n",
       "            color:  cyan;\n",
       "        }    #T_27c91c50_9805_11ea_aca6_acde48001122row4_col1 {\n",
       "            background-color:  black;\n",
       "            color:  cyan;\n",
       "        }    #T_27c91c50_9805_11ea_aca6_acde48001122row4_col2 {\n",
       "            background-color:  black;\n",
       "            color:  cyan;\n",
       "        }    #T_27c91c50_9805_11ea_aca6_acde48001122row4_col3 {\n",
       "            background-color:  black;\n",
       "            color:  cyan;\n",
       "        }    #T_27c91c50_9805_11ea_aca6_acde48001122row4_col4 {\n",
       "            background-color:  black;\n",
       "            color:  cyan;\n",
       "        }    #T_27c91c50_9805_11ea_aca6_acde48001122row4_col5 {\n",
       "            background-color:  black;\n",
       "            color:  cyan;\n",
       "        }    #T_27c91c50_9805_11ea_aca6_acde48001122row5_col0 {\n",
       "            background-color:  black;\n",
       "            color:  cyan;\n",
       "        }    #T_27c91c50_9805_11ea_aca6_acde48001122row5_col1 {\n",
       "            background-color:  black;\n",
       "            color:  cyan;\n",
       "        }    #T_27c91c50_9805_11ea_aca6_acde48001122row5_col2 {\n",
       "            background-color:  black;\n",
       "            color:  cyan;\n",
       "        }    #T_27c91c50_9805_11ea_aca6_acde48001122row5_col3 {\n",
       "            background-color:  black;\n",
       "            color:  cyan;\n",
       "        }    #T_27c91c50_9805_11ea_aca6_acde48001122row5_col4 {\n",
       "            background-color:  black;\n",
       "            color:  cyan;\n",
       "        }    #T_27c91c50_9805_11ea_aca6_acde48001122row5_col5 {\n",
       "            background-color:  black;\n",
       "            color:  cyan;\n",
       "        }    #T_27c91c50_9805_11ea_aca6_acde48001122row6_col0 {\n",
       "            background-color:  black;\n",
       "            color:  cyan;\n",
       "        }    #T_27c91c50_9805_11ea_aca6_acde48001122row6_col1 {\n",
       "            background-color:  black;\n",
       "            color:  cyan;\n",
       "        }    #T_27c91c50_9805_11ea_aca6_acde48001122row6_col2 {\n",
       "            background-color:  black;\n",
       "            color:  cyan;\n",
       "        }    #T_27c91c50_9805_11ea_aca6_acde48001122row6_col3 {\n",
       "            background-color:  black;\n",
       "            color:  cyan;\n",
       "        }    #T_27c91c50_9805_11ea_aca6_acde48001122row6_col4 {\n",
       "            background-color:  black;\n",
       "            color:  cyan;\n",
       "        }    #T_27c91c50_9805_11ea_aca6_acde48001122row6_col5 {\n",
       "            background-color:  black;\n",
       "            color:  cyan;\n",
       "        }    #T_27c91c50_9805_11ea_aca6_acde48001122row7_col0 {\n",
       "            background-color:  black;\n",
       "            color:  cyan;\n",
       "        }    #T_27c91c50_9805_11ea_aca6_acde48001122row7_col1 {\n",
       "            background-color:  black;\n",
       "            color:  cyan;\n",
       "        }    #T_27c91c50_9805_11ea_aca6_acde48001122row7_col2 {\n",
       "            background-color:  black;\n",
       "            color:  cyan;\n",
       "        }    #T_27c91c50_9805_11ea_aca6_acde48001122row7_col3 {\n",
       "            background-color:  black;\n",
       "            color:  cyan;\n",
       "        }    #T_27c91c50_9805_11ea_aca6_acde48001122row7_col4 {\n",
       "            background-color:  black;\n",
       "            color:  cyan;\n",
       "        }    #T_27c91c50_9805_11ea_aca6_acde48001122row7_col5 {\n",
       "            background-color:  black;\n",
       "            color:  cyan;\n",
       "        }    #T_27c91c50_9805_11ea_aca6_acde48001122row8_col0 {\n",
       "            background-color:  black;\n",
       "            color:  cyan;\n",
       "        }    #T_27c91c50_9805_11ea_aca6_acde48001122row8_col1 {\n",
       "            background-color:  black;\n",
       "            color:  cyan;\n",
       "        }    #T_27c91c50_9805_11ea_aca6_acde48001122row8_col2 {\n",
       "            background-color:  black;\n",
       "            color:  cyan;\n",
       "        }    #T_27c91c50_9805_11ea_aca6_acde48001122row8_col3 {\n",
       "            background-color:  black;\n",
       "            color:  cyan;\n",
       "        }    #T_27c91c50_9805_11ea_aca6_acde48001122row8_col4 {\n",
       "            background-color:  black;\n",
       "            color:  cyan;\n",
       "        }    #T_27c91c50_9805_11ea_aca6_acde48001122row8_col5 {\n",
       "            background-color:  black;\n",
       "            color:  cyan;\n",
       "        }</style><table id=\"T_27c91c50_9805_11ea_aca6_acde48001122\" ><thead>    <tr>        <th class=\"blank level0\" ></th>        <th class=\"col_heading level0 col0\" >id</th>        <th class=\"col_heading level0 col1\" >station</th>        <th class=\"col_heading level0 col2\" >name</th>        <th class=\"col_heading level0 col3\" >latitude</th>        <th class=\"col_heading level0 col4\" >longitude</th>        <th class=\"col_heading level0 col5\" >elevation</th>    </tr></thead><tbody>\n",
       "                <tr>\n",
       "                        <th id=\"T_27c91c50_9805_11ea_aca6_acde48001122level0_row0\" class=\"row_heading level0 row0\" >0</th>\n",
       "                        <td id=\"T_27c91c50_9805_11ea_aca6_acde48001122row0_col0\" class=\"data row0 col0\" >1</td>\n",
       "                        <td id=\"T_27c91c50_9805_11ea_aca6_acde48001122row0_col1\" class=\"data row0 col1\" >USC00519397</td>\n",
       "                        <td id=\"T_27c91c50_9805_11ea_aca6_acde48001122row0_col2\" class=\"data row0 col2\" >WAIKIKI 717.2, HI US</td>\n",
       "                        <td id=\"T_27c91c50_9805_11ea_aca6_acde48001122row0_col3\" class=\"data row0 col3\" >21.2716</td>\n",
       "                        <td id=\"T_27c91c50_9805_11ea_aca6_acde48001122row0_col4\" class=\"data row0 col4\" >-157.817</td>\n",
       "                        <td id=\"T_27c91c50_9805_11ea_aca6_acde48001122row0_col5\" class=\"data row0 col5\" >3</td>\n",
       "            </tr>\n",
       "            <tr>\n",
       "                        <th id=\"T_27c91c50_9805_11ea_aca6_acde48001122level0_row1\" class=\"row_heading level0 row1\" >1</th>\n",
       "                        <td id=\"T_27c91c50_9805_11ea_aca6_acde48001122row1_col0\" class=\"data row1 col0\" >2</td>\n",
       "                        <td id=\"T_27c91c50_9805_11ea_aca6_acde48001122row1_col1\" class=\"data row1 col1\" >USC00513117</td>\n",
       "                        <td id=\"T_27c91c50_9805_11ea_aca6_acde48001122row1_col2\" class=\"data row1 col2\" >KANEOHE 838.1, HI US</td>\n",
       "                        <td id=\"T_27c91c50_9805_11ea_aca6_acde48001122row1_col3\" class=\"data row1 col3\" >21.4234</td>\n",
       "                        <td id=\"T_27c91c50_9805_11ea_aca6_acde48001122row1_col4\" class=\"data row1 col4\" >-157.802</td>\n",
       "                        <td id=\"T_27c91c50_9805_11ea_aca6_acde48001122row1_col5\" class=\"data row1 col5\" >14.6</td>\n",
       "            </tr>\n",
       "            <tr>\n",
       "                        <th id=\"T_27c91c50_9805_11ea_aca6_acde48001122level0_row2\" class=\"row_heading level0 row2\" >2</th>\n",
       "                        <td id=\"T_27c91c50_9805_11ea_aca6_acde48001122row2_col0\" class=\"data row2 col0\" >3</td>\n",
       "                        <td id=\"T_27c91c50_9805_11ea_aca6_acde48001122row2_col1\" class=\"data row2 col1\" >USC00514830</td>\n",
       "                        <td id=\"T_27c91c50_9805_11ea_aca6_acde48001122row2_col2\" class=\"data row2 col2\" >KUALOA RANCH HEADQUARTERS 886.9, HI US</td>\n",
       "                        <td id=\"T_27c91c50_9805_11ea_aca6_acde48001122row2_col3\" class=\"data row2 col3\" >21.5213</td>\n",
       "                        <td id=\"T_27c91c50_9805_11ea_aca6_acde48001122row2_col4\" class=\"data row2 col4\" >-157.837</td>\n",
       "                        <td id=\"T_27c91c50_9805_11ea_aca6_acde48001122row2_col5\" class=\"data row2 col5\" >7</td>\n",
       "            </tr>\n",
       "            <tr>\n",
       "                        <th id=\"T_27c91c50_9805_11ea_aca6_acde48001122level0_row3\" class=\"row_heading level0 row3\" >3</th>\n",
       "                        <td id=\"T_27c91c50_9805_11ea_aca6_acde48001122row3_col0\" class=\"data row3 col0\" >4</td>\n",
       "                        <td id=\"T_27c91c50_9805_11ea_aca6_acde48001122row3_col1\" class=\"data row3 col1\" >USC00517948</td>\n",
       "                        <td id=\"T_27c91c50_9805_11ea_aca6_acde48001122row3_col2\" class=\"data row3 col2\" >PEARL CITY, HI US</td>\n",
       "                        <td id=\"T_27c91c50_9805_11ea_aca6_acde48001122row3_col3\" class=\"data row3 col3\" >21.3934</td>\n",
       "                        <td id=\"T_27c91c50_9805_11ea_aca6_acde48001122row3_col4\" class=\"data row3 col4\" >-157.975</td>\n",
       "                        <td id=\"T_27c91c50_9805_11ea_aca6_acde48001122row3_col5\" class=\"data row3 col5\" >11.9</td>\n",
       "            </tr>\n",
       "            <tr>\n",
       "                        <th id=\"T_27c91c50_9805_11ea_aca6_acde48001122level0_row4\" class=\"row_heading level0 row4\" >4</th>\n",
       "                        <td id=\"T_27c91c50_9805_11ea_aca6_acde48001122row4_col0\" class=\"data row4 col0\" >5</td>\n",
       "                        <td id=\"T_27c91c50_9805_11ea_aca6_acde48001122row4_col1\" class=\"data row4 col1\" >USC00518838</td>\n",
       "                        <td id=\"T_27c91c50_9805_11ea_aca6_acde48001122row4_col2\" class=\"data row4 col2\" >UPPER WAHIAWA 874.3, HI US</td>\n",
       "                        <td id=\"T_27c91c50_9805_11ea_aca6_acde48001122row4_col3\" class=\"data row4 col3\" >21.4992</td>\n",
       "                        <td id=\"T_27c91c50_9805_11ea_aca6_acde48001122row4_col4\" class=\"data row4 col4\" >-158.011</td>\n",
       "                        <td id=\"T_27c91c50_9805_11ea_aca6_acde48001122row4_col5\" class=\"data row4 col5\" >306.6</td>\n",
       "            </tr>\n",
       "            <tr>\n",
       "                        <th id=\"T_27c91c50_9805_11ea_aca6_acde48001122level0_row5\" class=\"row_heading level0 row5\" >5</th>\n",
       "                        <td id=\"T_27c91c50_9805_11ea_aca6_acde48001122row5_col0\" class=\"data row5 col0\" >6</td>\n",
       "                        <td id=\"T_27c91c50_9805_11ea_aca6_acde48001122row5_col1\" class=\"data row5 col1\" >USC00519523</td>\n",
       "                        <td id=\"T_27c91c50_9805_11ea_aca6_acde48001122row5_col2\" class=\"data row5 col2\" >WAIMANALO EXPERIMENTAL FARM, HI US</td>\n",
       "                        <td id=\"T_27c91c50_9805_11ea_aca6_acde48001122row5_col3\" class=\"data row5 col3\" >21.3356</td>\n",
       "                        <td id=\"T_27c91c50_9805_11ea_aca6_acde48001122row5_col4\" class=\"data row5 col4\" >-157.711</td>\n",
       "                        <td id=\"T_27c91c50_9805_11ea_aca6_acde48001122row5_col5\" class=\"data row5 col5\" >19.5</td>\n",
       "            </tr>\n",
       "            <tr>\n",
       "                        <th id=\"T_27c91c50_9805_11ea_aca6_acde48001122level0_row6\" class=\"row_heading level0 row6\" >6</th>\n",
       "                        <td id=\"T_27c91c50_9805_11ea_aca6_acde48001122row6_col0\" class=\"data row6 col0\" >7</td>\n",
       "                        <td id=\"T_27c91c50_9805_11ea_aca6_acde48001122row6_col1\" class=\"data row6 col1\" >USC00519281</td>\n",
       "                        <td id=\"T_27c91c50_9805_11ea_aca6_acde48001122row6_col2\" class=\"data row6 col2\" >WAIHEE 837.5, HI US</td>\n",
       "                        <td id=\"T_27c91c50_9805_11ea_aca6_acde48001122row6_col3\" class=\"data row6 col3\" >21.4517</td>\n",
       "                        <td id=\"T_27c91c50_9805_11ea_aca6_acde48001122row6_col4\" class=\"data row6 col4\" >-157.849</td>\n",
       "                        <td id=\"T_27c91c50_9805_11ea_aca6_acde48001122row6_col5\" class=\"data row6 col5\" >32.9</td>\n",
       "            </tr>\n",
       "            <tr>\n",
       "                        <th id=\"T_27c91c50_9805_11ea_aca6_acde48001122level0_row7\" class=\"row_heading level0 row7\" >7</th>\n",
       "                        <td id=\"T_27c91c50_9805_11ea_aca6_acde48001122row7_col0\" class=\"data row7 col0\" >8</td>\n",
       "                        <td id=\"T_27c91c50_9805_11ea_aca6_acde48001122row7_col1\" class=\"data row7 col1\" >USC00511918</td>\n",
       "                        <td id=\"T_27c91c50_9805_11ea_aca6_acde48001122row7_col2\" class=\"data row7 col2\" >HONOLULU OBSERVATORY 702.2, HI US</td>\n",
       "                        <td id=\"T_27c91c50_9805_11ea_aca6_acde48001122row7_col3\" class=\"data row7 col3\" >21.3152</td>\n",
       "                        <td id=\"T_27c91c50_9805_11ea_aca6_acde48001122row7_col4\" class=\"data row7 col4\" >-157.999</td>\n",
       "                        <td id=\"T_27c91c50_9805_11ea_aca6_acde48001122row7_col5\" class=\"data row7 col5\" >0.9</td>\n",
       "            </tr>\n",
       "            <tr>\n",
       "                        <th id=\"T_27c91c50_9805_11ea_aca6_acde48001122level0_row8\" class=\"row_heading level0 row8\" >8</th>\n",
       "                        <td id=\"T_27c91c50_9805_11ea_aca6_acde48001122row8_col0\" class=\"data row8 col0\" >9</td>\n",
       "                        <td id=\"T_27c91c50_9805_11ea_aca6_acde48001122row8_col1\" class=\"data row8 col1\" >USC00516128</td>\n",
       "                        <td id=\"T_27c91c50_9805_11ea_aca6_acde48001122row8_col2\" class=\"data row8 col2\" >MANOA LYON ARBO 785.2, HI US</td>\n",
       "                        <td id=\"T_27c91c50_9805_11ea_aca6_acde48001122row8_col3\" class=\"data row8 col3\" >21.3331</td>\n",
       "                        <td id=\"T_27c91c50_9805_11ea_aca6_acde48001122row8_col4\" class=\"data row8 col4\" >-157.803</td>\n",
       "                        <td id=\"T_27c91c50_9805_11ea_aca6_acde48001122row8_col5\" class=\"data row8 col5\" >152.4</td>\n",
       "            </tr>\n",
       "    </tbody></table>"
      ],
      "text/plain": [
       "<pandas.io.formats.style.Styler at 0x12414a390>"
      ]
     },
     "execution_count": 54,
     "metadata": {},
     "output_type": "execute_result"
    }
   ],
   "source": [
    "# Retrieve the data from 'station' table\n",
    "\n",
    "Station_df = pd.read_sql('select * from station', connection)\n",
    "\n",
    "Station_df.set_index('id',drop = True)\n",
    "\n",
    "Station_df.style.set_properties(**{'background-color': 'black','color': 'cyan'})"
   ]
  },
  {
   "cell_type": "markdown",
   "metadata": {},
   "source": [
    "___\n",
    "### _<font color = darkblue>Method-2: Retrieve the Tables using <font color = E50FB4>'Inspect'<font>_\n",
    "___"
   ]
  },
  {
   "cell_type": "code",
   "execution_count": 55,
   "metadata": {},
   "outputs": [
    {
     "data": {
      "text/plain": [
       "['measurement', 'station']"
      ]
     },
     "execution_count": 55,
     "metadata": {},
     "output_type": "execute_result"
    }
   ],
   "source": [
    "# Use the Inspector to explore the database and print the table names\n",
    "\n",
    "inspector = inspect(engine)\n",
    "\n",
    "inspector.get_table_names()"
   ]
  },
  {
   "cell_type": "code",
   "execution_count": 56,
   "metadata": {},
   "outputs": [
    {
     "name": "stdout",
     "output_type": "stream",
     "text": [
      "The columns in 'measurement' table are:\n",
      "\n",
      "id INTEGER\n",
      "station TEXT\n",
      "date TEXT\n",
      "prcp FLOAT\n",
      "tobs FLOAT\n",
      "\n",
      "The columns in 'station' table are:\n",
      "\n",
      "id INTEGER\n",
      "station TEXT\n",
      "name TEXT\n",
      "latitude FLOAT\n",
      "longitude FLOAT\n",
      "elevation FLOAT\n"
     ]
    }
   ],
   "source": [
    "# Use Inspector to print the names and types of columns in 'measurement' table\n",
    "\n",
    "measurement_columns = inspector.get_columns('measurement')\n",
    "\n",
    "print(f\"The columns in 'measurement' table are:\\n\")\n",
    "for mc in measurement_columns:\n",
    "    print(mc['name'], mc['type'])\n",
    "\n",
    "# Use Inspector to print the names and types of columns in 'station' table\n",
    "\n",
    "station_columns = inspector.get_columns('station')\n",
    "\n",
    "print(f\"\\nThe columns in 'station' table are:\\n\")\n",
    "for sc in station_columns:\n",
    "    print(sc['name'], sc[\"type\"])"
   ]
  },
  {
   "cell_type": "code",
   "execution_count": 57,
   "metadata": {},
   "outputs": [],
   "source": [
    "# Print the data in 'measurement' table\n",
    "\n",
    "measurement = engine.execute('select * from measurement').fetchall()\n"
   ]
  },
  {
   "cell_type": "code",
   "execution_count": 58,
   "metadata": {},
   "outputs": [
    {
     "data": {
      "text/plain": [
       "[(1, 'USC00519397', 'WAIKIKI 717.2, HI US', 21.2716, -157.8168, 3.0),\n",
       " (2, 'USC00513117', 'KANEOHE 838.1, HI US', 21.4234, -157.8015, 14.6),\n",
       " (3, 'USC00514830', 'KUALOA RANCH HEADQUARTERS 886.9, HI US', 21.5213, -157.8374, 7.0),\n",
       " (4, 'USC00517948', 'PEARL CITY, HI US', 21.3934, -157.9751, 11.9),\n",
       " (5, 'USC00518838', 'UPPER WAHIAWA 874.3, HI US', 21.4992, -158.0111, 306.6),\n",
       " (6, 'USC00519523', 'WAIMANALO EXPERIMENTAL FARM, HI US', 21.33556, -157.71139, 19.5),\n",
       " (7, 'USC00519281', 'WAIHEE 837.5, HI US', 21.45167, -157.84888999999998, 32.9),\n",
       " (8, 'USC00511918', 'HONOLULU OBSERVATORY 702.2, HI US', 21.3152, -157.9992, 0.9),\n",
       " (9, 'USC00516128', 'MANOA LYON ARBO 785.2, HI US', 21.3331, -157.8025, 152.4)]"
      ]
     },
     "execution_count": 58,
     "metadata": {},
     "output_type": "execute_result"
    }
   ],
   "source": [
    "# Print the data in 'station' table\n",
    "\n",
    "station = engine.execute('select * from Station').fetchall()\n",
    "\n",
    "station"
   ]
  },
  {
   "cell_type": "markdown",
   "metadata": {},
   "source": [
    "___\n",
    "### _<font color = darkblue>Method-3:  Reflect the Tables into <font color = E50FB4>SQLAlchemy ORM_\n",
    "___"
   ]
  },
  {
   "cell_type": "code",
   "execution_count": 59,
   "metadata": {},
   "outputs": [],
   "source": [
    "engine = create_engine(\"sqlite:///Resources/hawaii.sqlite\")\n",
    "\n",
    "# Reflect an existing database into a new model\n",
    "\n",
    "Base = automap_base()\n",
    "\n",
    "# Reflect the tables\n",
    "\n",
    "Base.prepare(engine, reflect=True)"
   ]
  },
  {
   "cell_type": "code",
   "execution_count": 60,
   "metadata": {},
   "outputs": [
    {
     "data": {
      "text/plain": [
       "['measurement', 'station']"
      ]
     },
     "execution_count": 60,
     "metadata": {},
     "output_type": "execute_result"
    }
   ],
   "source": [
    "# We can view all of the classes that automap found\n",
    "\n",
    "Base.classes.keys()"
   ]
  },
  {
   "cell_type": "code",
   "execution_count": 61,
   "metadata": {},
   "outputs": [
    {
     "data": {
      "text/plain": [
       "sqlalchemy.ext.automap.measurement"
      ]
     },
     "execution_count": 61,
     "metadata": {},
     "output_type": "execute_result"
    }
   ],
   "source": [
    "# Save references to measurement table\n",
    "\n",
    "Measurement = Base.classes.measurement\n",
    "Measurement"
   ]
  },
  {
   "cell_type": "code",
   "execution_count": 62,
   "metadata": {},
   "outputs": [
    {
     "data": {
      "text/plain": [
       "sqlalchemy.ext.automap.station"
      ]
     },
     "execution_count": 62,
     "metadata": {},
     "output_type": "execute_result"
    }
   ],
   "source": [
    "# Save references to station table\n",
    "\n",
    "Station = Base.classes.station\n",
    "Station"
   ]
  },
  {
   "cell_type": "code",
   "execution_count": 63,
   "metadata": {},
   "outputs": [],
   "source": [
    "# Create a session (link) from Python to the DB\n",
    "\n",
    "session = Session(engine)"
   ]
  },
  {
   "cell_type": "markdown",
   "metadata": {},
   "source": [
    "___\n",
    "# _<font color = E50FB4>Precipitation Analysis</font>_\n",
    "___\n"
   ]
  },
  {
   "cell_type": "markdown",
   "metadata": {},
   "source": [
    "### _<font color = darkblue>Design a query to find the date of last data point<font>_\n",
    "___"
   ]
  },
  {
   "cell_type": "code",
   "execution_count": 64,
   "metadata": {},
   "outputs": [
    {
     "name": "stdout",
     "output_type": "stream",
     "text": [
      "The date_query result is 2017-08-23 ---> Type <class 'str'>\n",
      "\n",
      "The latest date is 2017-08-23       ---> Type <class 'datetime.date'>\n",
      "\n",
      "The Year ago date is 2016-08-23     ---> Type <class 'datetime.date'>\n"
     ]
    }
   ],
   "source": [
    "# Import datetime and timedelta\n",
    "\n",
    "from datetime import datetime,timedelta\n",
    "\n",
    "# Design a query to find the date of last data point\n",
    "\n",
    "date_query, = session.query(Measurement.date).order_by(Measurement.date.desc()).first()\n",
    "print(f'The date_query result is {date_query} ---> Type {type(date_query)}')\n",
    "\n",
    "# Using strptime() to convert latest date from sring to datetype\n",
    "\n",
    "latest_date = datetime.strptime(date_query,\"%Y-%m-%d\").date()\n",
    "print(f'\\nThe latest date is {latest_date}       ---> Type {type(latest_date)}')\n",
    "\n",
    "\n",
    "# Calculate the date 1 year ago from the latest data in the database\n",
    "\n",
    "Year_Ago_Date = latest_date - timedelta(days=365)\n",
    "print(f'\\nThe Year ago date is {Year_Ago_Date}     ---> Type {type(Year_Ago_Date)}')\n"
   ]
  },
  {
   "cell_type": "markdown",
   "metadata": {},
   "source": [
    "___\n",
    "### _<font color = darkblue>Design a query to retrieve precipitation data for last 12 months_\n",
    "___"
   ]
  },
  {
   "cell_type": "code",
   "execution_count": 65,
   "metadata": {},
   "outputs": [
    {
     "data": {
      "text/html": [
       "<div>\n",
       "<style scoped>\n",
       "    .dataframe tbody tr th:only-of-type {\n",
       "        vertical-align: middle;\n",
       "    }\n",
       "\n",
       "    .dataframe tbody tr th {\n",
       "        vertical-align: top;\n",
       "    }\n",
       "\n",
       "    .dataframe thead th {\n",
       "        text-align: right;\n",
       "    }\n",
       "</style>\n",
       "<table border=\"1\" class=\"dataframe\">\n",
       "  <thead>\n",
       "    <tr style=\"text-align: right;\">\n",
       "      <th></th>\n",
       "      <th>Precipitation</th>\n",
       "    </tr>\n",
       "    <tr>\n",
       "      <th>Date</th>\n",
       "      <th></th>\n",
       "    </tr>\n",
       "  </thead>\n",
       "  <tbody>\n",
       "    <tr>\n",
       "      <td>2016-08-23</td>\n",
       "      <td>0.00</td>\n",
       "    </tr>\n",
       "    <tr>\n",
       "      <td>2016-08-23</td>\n",
       "      <td>NaN</td>\n",
       "    </tr>\n",
       "    <tr>\n",
       "      <td>2016-08-23</td>\n",
       "      <td>1.79</td>\n",
       "    </tr>\n",
       "    <tr>\n",
       "      <td>2016-08-23</td>\n",
       "      <td>0.05</td>\n",
       "    </tr>\n",
       "    <tr>\n",
       "      <td>2016-08-23</td>\n",
       "      <td>0.15</td>\n",
       "    </tr>\n",
       "    <tr>\n",
       "      <td>2016-08-23</td>\n",
       "      <td>0.70</td>\n",
       "    </tr>\n",
       "    <tr>\n",
       "      <td>2016-08-23</td>\n",
       "      <td>0.02</td>\n",
       "    </tr>\n",
       "    <tr>\n",
       "      <td>2016-08-24</td>\n",
       "      <td>0.08</td>\n",
       "    </tr>\n",
       "    <tr>\n",
       "      <td>2016-08-24</td>\n",
       "      <td>2.15</td>\n",
       "    </tr>\n",
       "    <tr>\n",
       "      <td>2016-08-24</td>\n",
       "      <td>2.28</td>\n",
       "    </tr>\n",
       "  </tbody>\n",
       "</table>\n",
       "</div>"
      ],
      "text/plain": [
       "            Precipitation\n",
       "Date                     \n",
       "2016-08-23           0.00\n",
       "2016-08-23            NaN\n",
       "2016-08-23           1.79\n",
       "2016-08-23           0.05\n",
       "2016-08-23           0.15\n",
       "2016-08-23           0.70\n",
       "2016-08-23           0.02\n",
       "2016-08-24           0.08\n",
       "2016-08-24           2.15\n",
       "2016-08-24           2.28"
      ]
     },
     "execution_count": 65,
     "metadata": {},
     "output_type": "execute_result"
    }
   ],
   "source": [
    "# Perform a query to retrieve the date and precipitation scores\n",
    "\n",
    "prcp_query = session.query(Measurement.date, Measurement.prcp).filter(Measurement.date >= Year_Ago_Date).all()\n",
    "\n",
    "# Save the query results as a Pandas DataFrame and set the index to the date column\n",
    "\n",
    "prcp_df = pd.DataFrame(prcp_query, columns =['Date','Precipitation'])\n",
    "\n",
    "\n",
    "# Set the 'Date' column as index\n",
    "\n",
    "prcp_df = prcp_df.set_index('Date')\n",
    "\n",
    "# Sort the dataframe by date\n",
    "\n",
    "prcp_df = prcp_df.sort_index()\n",
    "\n",
    "prcp_df.head(10)"
   ]
  },
  {
   "cell_type": "markdown",
   "metadata": {},
   "source": [
    "___\n",
    "### _<font color = darkblue>Plot the precipitation data<font>_\n",
    "___"
   ]
  },
  {
   "cell_type": "code",
   "execution_count": 66,
   "metadata": {},
   "outputs": [
    {
     "data": {
      "image/png": "[encoded data removed]",
      "text/plain": [
       "<Figure size 1008x576 with 1 Axes>"
      ]
     },
     "metadata": {},
     "output_type": "display_data"
    },
    {
     "data": {
      "text/plain": [
       "<Figure size 432x288 with 0 Axes>"
      ]
     },
     "metadata": {},
     "output_type": "display_data"
    }
   ],
   "source": [
    "# Use Pandas Plotting with Matplotlib to plot the data\n",
    "\n",
    "prcp_df.plot(kind = \"line\",\n",
    "             figsize = (14,8),\n",
    "             marker = '.',\n",
    "             color = 'c',\n",
    "             fontsize = 15,\n",
    "             rot = 'vertical')\n",
    "\n",
    "# Incorporate other graph properties\n",
    "\n",
    "plt.title(\"Precipitation Over last one year\", color = 'c', fontname='Comic Sans MS', fontsize = 23, pad = 30)\n",
    "\n",
    "plt.ylabel(\"Precipitation (Inches)\", color = 'c', fontname='Comic Sans MS', fontsize = 22)\n",
    "\n",
    "plt.xlabel(\"Date\", color = 'c', fontname='Comic Sans MS', fontsize = 22)\n",
    "\n",
    "plt.legend(prop={'size': 20})\n",
    "\n",
    "plt.tight_layout()\n",
    "\n",
    "plt.show()\n",
    "\n",
    "plt.savefig('Images/Precipitation.png')"
   ]
  },
  {
   "cell_type": "markdown",
   "metadata": {},
   "source": [
    "___\n",
    "### _<font color = darkblue>Summary statistics for the precipitation data<font>_\n",
    "___\n"
   ]
  },
  {
   "cell_type": "code",
   "execution_count": 68,
   "metadata": {},
   "outputs": [
    {
     "data": {
      "text/html": [
       "<style  type=\"text/css\" >\n",
       "    #T_5031c4a8_9805_11ea_aca6_acde48001122row0_col0 {\n",
       "            background-color:  black;\n",
       "            color:  cyan;\n",
       "        }    #T_5031c4a8_9805_11ea_aca6_acde48001122row1_col0 {\n",
       "            background-color:  black;\n",
       "            color:  cyan;\n",
       "        }    #T_5031c4a8_9805_11ea_aca6_acde48001122row2_col0 {\n",
       "            background-color:  black;\n",
       "            color:  cyan;\n",
       "        }    #T_5031c4a8_9805_11ea_aca6_acde48001122row3_col0 {\n",
       "            background-color:  black;\n",
       "            color:  cyan;\n",
       "        }    #T_5031c4a8_9805_11ea_aca6_acde48001122row4_col0 {\n",
       "            background-color:  black;\n",
       "            color:  cyan;\n",
       "        }    #T_5031c4a8_9805_11ea_aca6_acde48001122row5_col0 {\n",
       "            background-color:  black;\n",
       "            color:  cyan;\n",
       "        }    #T_5031c4a8_9805_11ea_aca6_acde48001122row6_col0 {\n",
       "            background-color:  black;\n",
       "            color:  cyan;\n",
       "        }    #T_5031c4a8_9805_11ea_aca6_acde48001122row7_col0 {\n",
       "            background-color:  black;\n",
       "            color:  cyan;\n",
       "        }</style><table id=\"T_5031c4a8_9805_11ea_aca6_acde48001122\" ><thead>    <tr>        <th class=\"blank level0\" ></th>        <th class=\"col_heading level0 col0\" >Precipitation</th>    </tr></thead><tbody>\n",
       "                <tr>\n",
       "                        <th id=\"T_5031c4a8_9805_11ea_aca6_acde48001122level0_row0\" class=\"row_heading level0 row0\" >count</th>\n",
       "                        <td id=\"T_5031c4a8_9805_11ea_aca6_acde48001122row0_col0\" class=\"data row0 col0\" >2021</td>\n",
       "            </tr>\n",
       "            <tr>\n",
       "                        <th id=\"T_5031c4a8_9805_11ea_aca6_acde48001122level0_row1\" class=\"row_heading level0 row1\" >mean</th>\n",
       "                        <td id=\"T_5031c4a8_9805_11ea_aca6_acde48001122row1_col0\" class=\"data row1 col0\" >0.177279</td>\n",
       "            </tr>\n",
       "            <tr>\n",
       "                        <th id=\"T_5031c4a8_9805_11ea_aca6_acde48001122level0_row2\" class=\"row_heading level0 row2\" >std</th>\n",
       "                        <td id=\"T_5031c4a8_9805_11ea_aca6_acde48001122row2_col0\" class=\"data row2 col0\" >0.46119</td>\n",
       "            </tr>\n",
       "            <tr>\n",
       "                        <th id=\"T_5031c4a8_9805_11ea_aca6_acde48001122level0_row3\" class=\"row_heading level0 row3\" >min</th>\n",
       "                        <td id=\"T_5031c4a8_9805_11ea_aca6_acde48001122row3_col0\" class=\"data row3 col0\" >0</td>\n",
       "            </tr>\n",
       "            <tr>\n",
       "                        <th id=\"T_5031c4a8_9805_11ea_aca6_acde48001122level0_row4\" class=\"row_heading level0 row4\" >25%</th>\n",
       "                        <td id=\"T_5031c4a8_9805_11ea_aca6_acde48001122row4_col0\" class=\"data row4 col0\" >0</td>\n",
       "            </tr>\n",
       "            <tr>\n",
       "                        <th id=\"T_5031c4a8_9805_11ea_aca6_acde48001122level0_row5\" class=\"row_heading level0 row5\" >50%</th>\n",
       "                        <td id=\"T_5031c4a8_9805_11ea_aca6_acde48001122row5_col0\" class=\"data row5 col0\" >0.02</td>\n",
       "            </tr>\n",
       "            <tr>\n",
       "                        <th id=\"T_5031c4a8_9805_11ea_aca6_acde48001122level0_row6\" class=\"row_heading level0 row6\" >75%</th>\n",
       "                        <td id=\"T_5031c4a8_9805_11ea_aca6_acde48001122row6_col0\" class=\"data row6 col0\" >0.13</td>\n",
       "            </tr>\n",
       "            <tr>\n",
       "                        <th id=\"T_5031c4a8_9805_11ea_aca6_acde48001122level0_row7\" class=\"row_heading level0 row7\" >max</th>\n",
       "                        <td id=\"T_5031c4a8_9805_11ea_aca6_acde48001122row7_col0\" class=\"data row7 col0\" >6.7</td>\n",
       "            </tr>\n",
       "    </tbody></table>"
      ],
      "text/plain": [
       "<pandas.io.formats.style.Styler at 0x121f69550>"
      ]
     },
     "execution_count": 68,
     "metadata": {},
     "output_type": "execute_result"
    }
   ],
   "source": [
    "# Use Pandas to calcualte the summary statistics for the precipitation data\n",
    "prcp_df.describe().style.set_properties(**{'background-color': 'black','color': 'cyan'})"
   ]
  },
  {
   "cell_type": "markdown",
   "metadata": {},
   "source": [
    "___\n",
    "# _<font color = E50FB4>Station Analysis<font>_\n",
    "___"
   ]
  },
  {
   "cell_type": "markdown",
   "metadata": {},
   "source": [
    "### _<font color = darkblue>Design a query to calculate the total number of stations<font>_\n",
    "___"
   ]
  },
  {
   "cell_type": "code",
   "execution_count": 69,
   "metadata": {},
   "outputs": [
    {
     "name": "stdout",
     "output_type": "stream",
     "text": [
      "There are 9 stations in this dataset.\n",
      "\n",
      "The station names are:\n",
      "\n",
      "WAIKIKI 717.2, HI US\n",
      "KANEOHE 838.1, HI US\n",
      "KUALOA RANCH HEADQUARTERS 886.9, HI US\n",
      "PEARL CITY, HI US\n",
      "UPPER WAHIAWA 874.3, HI US\n",
      "WAIMANALO EXPERIMENTAL FARM, HI US\n",
      "WAIHEE 837.5, HI US\n",
      "HONOLULU OBSERVATORY 702.2, HI US\n",
      "MANOA LYON ARBO 785.2, HI US\n"
     ]
    }
   ],
   "source": [
    "# Design a query to show how many stations are available in this dataset?\n",
    "\n",
    "station_count, = session.query(func.count(Station.station)).first()\n",
    "\n",
    "print(f'There are {station_count} stations in this dataset.\\n')\n",
    "\n",
    "# Design a query to list the stations names\n",
    "\n",
    "station_names = session.query(Station.name).all()\n",
    "\n",
    "print(f'The station names are:\\n')\n",
    "\n",
    "for row in station_names:\n",
    "    print(row[0])"
   ]
  },
  {
   "cell_type": "markdown",
   "metadata": {},
   "source": [
    "___\n",
    "### _<font color = darkblue>Design a query to find the most active station (Station with most observations)<font>_\n",
    "___"
   ]
  },
  {
   "cell_type": "code",
   "execution_count": 70,
   "metadata": {
    "scrolled": true
   },
   "outputs": [
    {
     "data": {
      "text/html": [
       "<style  type=\"text/css\" >\n",
       "    #T_6e0d87e6_9805_11ea_aca6_acde48001122row0_col0 {\n",
       "            background-color:  black;\n",
       "            color:  cyan;\n",
       "        }    #T_6e0d87e6_9805_11ea_aca6_acde48001122row0_col1 {\n",
       "            background-color:  black;\n",
       "            color:  cyan;\n",
       "        }    #T_6e0d87e6_9805_11ea_aca6_acde48001122row0_col2 {\n",
       "            background-color:  black;\n",
       "            color:  cyan;\n",
       "        }    #T_6e0d87e6_9805_11ea_aca6_acde48001122row1_col0 {\n",
       "            background-color:  black;\n",
       "            color:  cyan;\n",
       "        }    #T_6e0d87e6_9805_11ea_aca6_acde48001122row1_col1 {\n",
       "            background-color:  black;\n",
       "            color:  cyan;\n",
       "        }    #T_6e0d87e6_9805_11ea_aca6_acde48001122row1_col2 {\n",
       "            background-color:  black;\n",
       "            color:  cyan;\n",
       "        }    #T_6e0d87e6_9805_11ea_aca6_acde48001122row2_col0 {\n",
       "            background-color:  black;\n",
       "            color:  cyan;\n",
       "        }    #T_6e0d87e6_9805_11ea_aca6_acde48001122row2_col1 {\n",
       "            background-color:  black;\n",
       "            color:  cyan;\n",
       "        }    #T_6e0d87e6_9805_11ea_aca6_acde48001122row2_col2 {\n",
       "            background-color:  black;\n",
       "            color:  cyan;\n",
       "        }    #T_6e0d87e6_9805_11ea_aca6_acde48001122row3_col0 {\n",
       "            background-color:  black;\n",
       "            color:  cyan;\n",
       "        }    #T_6e0d87e6_9805_11ea_aca6_acde48001122row3_col1 {\n",
       "            background-color:  black;\n",
       "            color:  cyan;\n",
       "        }    #T_6e0d87e6_9805_11ea_aca6_acde48001122row3_col2 {\n",
       "            background-color:  black;\n",
       "            color:  cyan;\n",
       "        }    #T_6e0d87e6_9805_11ea_aca6_acde48001122row4_col0 {\n",
       "            background-color:  black;\n",
       "            color:  cyan;\n",
       "        }    #T_6e0d87e6_9805_11ea_aca6_acde48001122row4_col1 {\n",
       "            background-color:  black;\n",
       "            color:  cyan;\n",
       "        }    #T_6e0d87e6_9805_11ea_aca6_acde48001122row4_col2 {\n",
       "            background-color:  black;\n",
       "            color:  cyan;\n",
       "        }    #T_6e0d87e6_9805_11ea_aca6_acde48001122row5_col0 {\n",
       "            background-color:  black;\n",
       "            color:  cyan;\n",
       "        }    #T_6e0d87e6_9805_11ea_aca6_acde48001122row5_col1 {\n",
       "            background-color:  black;\n",
       "            color:  cyan;\n",
       "        }    #T_6e0d87e6_9805_11ea_aca6_acde48001122row5_col2 {\n",
       "            background-color:  black;\n",
       "            color:  cyan;\n",
       "        }    #T_6e0d87e6_9805_11ea_aca6_acde48001122row6_col0 {\n",
       "            background-color:  black;\n",
       "            color:  cyan;\n",
       "        }    #T_6e0d87e6_9805_11ea_aca6_acde48001122row6_col1 {\n",
       "            background-color:  black;\n",
       "            color:  cyan;\n",
       "        }    #T_6e0d87e6_9805_11ea_aca6_acde48001122row6_col2 {\n",
       "            background-color:  black;\n",
       "            color:  cyan;\n",
       "        }    #T_6e0d87e6_9805_11ea_aca6_acde48001122row7_col0 {\n",
       "            background-color:  black;\n",
       "            color:  cyan;\n",
       "        }    #T_6e0d87e6_9805_11ea_aca6_acde48001122row7_col1 {\n",
       "            background-color:  black;\n",
       "            color:  cyan;\n",
       "        }    #T_6e0d87e6_9805_11ea_aca6_acde48001122row7_col2 {\n",
       "            background-color:  black;\n",
       "            color:  cyan;\n",
       "        }    #T_6e0d87e6_9805_11ea_aca6_acde48001122row8_col0 {\n",
       "            background-color:  black;\n",
       "            color:  cyan;\n",
       "        }    #T_6e0d87e6_9805_11ea_aca6_acde48001122row8_col1 {\n",
       "            background-color:  black;\n",
       "            color:  cyan;\n",
       "        }    #T_6e0d87e6_9805_11ea_aca6_acde48001122row8_col2 {\n",
       "            background-color:  black;\n",
       "            color:  cyan;\n",
       "        }</style><table id=\"T_6e0d87e6_9805_11ea_aca6_acde48001122\" ><thead>    <tr>        <th class=\"blank level0\" ></th>        <th class=\"col_heading level0 col0\" >Station_ID</th>        <th class=\"col_heading level0 col1\" >Station_name</th>        <th class=\"col_heading level0 col2\" >tobs_count</th>    </tr></thead><tbody>\n",
       "                <tr>\n",
       "                        <th id=\"T_6e0d87e6_9805_11ea_aca6_acde48001122level0_row0\" class=\"row_heading level0 row0\" >0</th>\n",
       "                        <td id=\"T_6e0d87e6_9805_11ea_aca6_acde48001122row0_col0\" class=\"data row0 col0\" >USC00519281</td>\n",
       "                        <td id=\"T_6e0d87e6_9805_11ea_aca6_acde48001122row0_col1\" class=\"data row0 col1\" >WAIHEE 837.5, HI US</td>\n",
       "                        <td id=\"T_6e0d87e6_9805_11ea_aca6_acde48001122row0_col2\" class=\"data row0 col2\" >2772</td>\n",
       "            </tr>\n",
       "            <tr>\n",
       "                        <th id=\"T_6e0d87e6_9805_11ea_aca6_acde48001122level0_row1\" class=\"row_heading level0 row1\" >1</th>\n",
       "                        <td id=\"T_6e0d87e6_9805_11ea_aca6_acde48001122row1_col0\" class=\"data row1 col0\" >USC00519397</td>\n",
       "                        <td id=\"T_6e0d87e6_9805_11ea_aca6_acde48001122row1_col1\" class=\"data row1 col1\" >WAIKIKI 717.2, HI US</td>\n",
       "                        <td id=\"T_6e0d87e6_9805_11ea_aca6_acde48001122row1_col2\" class=\"data row1 col2\" >2724</td>\n",
       "            </tr>\n",
       "            <tr>\n",
       "                        <th id=\"T_6e0d87e6_9805_11ea_aca6_acde48001122level0_row2\" class=\"row_heading level0 row2\" >2</th>\n",
       "                        <td id=\"T_6e0d87e6_9805_11ea_aca6_acde48001122row2_col0\" class=\"data row2 col0\" >USC00513117</td>\n",
       "                        <td id=\"T_6e0d87e6_9805_11ea_aca6_acde48001122row2_col1\" class=\"data row2 col1\" >KANEOHE 838.1, HI US</td>\n",
       "                        <td id=\"T_6e0d87e6_9805_11ea_aca6_acde48001122row2_col2\" class=\"data row2 col2\" >2709</td>\n",
       "            </tr>\n",
       "            <tr>\n",
       "                        <th id=\"T_6e0d87e6_9805_11ea_aca6_acde48001122level0_row3\" class=\"row_heading level0 row3\" >3</th>\n",
       "                        <td id=\"T_6e0d87e6_9805_11ea_aca6_acde48001122row3_col0\" class=\"data row3 col0\" >USC00519523</td>\n",
       "                        <td id=\"T_6e0d87e6_9805_11ea_aca6_acde48001122row3_col1\" class=\"data row3 col1\" >WAIMANALO EXPERIMENTAL FARM, HI US</td>\n",
       "                        <td id=\"T_6e0d87e6_9805_11ea_aca6_acde48001122row3_col2\" class=\"data row3 col2\" >2669</td>\n",
       "            </tr>\n",
       "            <tr>\n",
       "                        <th id=\"T_6e0d87e6_9805_11ea_aca6_acde48001122level0_row4\" class=\"row_heading level0 row4\" >4</th>\n",
       "                        <td id=\"T_6e0d87e6_9805_11ea_aca6_acde48001122row4_col0\" class=\"data row4 col0\" >USC00516128</td>\n",
       "                        <td id=\"T_6e0d87e6_9805_11ea_aca6_acde48001122row4_col1\" class=\"data row4 col1\" >MANOA LYON ARBO 785.2, HI US</td>\n",
       "                        <td id=\"T_6e0d87e6_9805_11ea_aca6_acde48001122row4_col2\" class=\"data row4 col2\" >2612</td>\n",
       "            </tr>\n",
       "            <tr>\n",
       "                        <th id=\"T_6e0d87e6_9805_11ea_aca6_acde48001122level0_row5\" class=\"row_heading level0 row5\" >5</th>\n",
       "                        <td id=\"T_6e0d87e6_9805_11ea_aca6_acde48001122row5_col0\" class=\"data row5 col0\" >USC00514830</td>\n",
       "                        <td id=\"T_6e0d87e6_9805_11ea_aca6_acde48001122row5_col1\" class=\"data row5 col1\" >KUALOA RANCH HEADQUARTERS 886.9, HI US</td>\n",
       "                        <td id=\"T_6e0d87e6_9805_11ea_aca6_acde48001122row5_col2\" class=\"data row5 col2\" >2202</td>\n",
       "            </tr>\n",
       "            <tr>\n",
       "                        <th id=\"T_6e0d87e6_9805_11ea_aca6_acde48001122level0_row6\" class=\"row_heading level0 row6\" >6</th>\n",
       "                        <td id=\"T_6e0d87e6_9805_11ea_aca6_acde48001122row6_col0\" class=\"data row6 col0\" >USC00511918</td>\n",
       "                        <td id=\"T_6e0d87e6_9805_11ea_aca6_acde48001122row6_col1\" class=\"data row6 col1\" >HONOLULU OBSERVATORY 702.2, HI US</td>\n",
       "                        <td id=\"T_6e0d87e6_9805_11ea_aca6_acde48001122row6_col2\" class=\"data row6 col2\" >1979</td>\n",
       "            </tr>\n",
       "            <tr>\n",
       "                        <th id=\"T_6e0d87e6_9805_11ea_aca6_acde48001122level0_row7\" class=\"row_heading level0 row7\" >7</th>\n",
       "                        <td id=\"T_6e0d87e6_9805_11ea_aca6_acde48001122row7_col0\" class=\"data row7 col0\" >USC00517948</td>\n",
       "                        <td id=\"T_6e0d87e6_9805_11ea_aca6_acde48001122row7_col1\" class=\"data row7 col1\" >PEARL CITY, HI US</td>\n",
       "                        <td id=\"T_6e0d87e6_9805_11ea_aca6_acde48001122row7_col2\" class=\"data row7 col2\" >1372</td>\n",
       "            </tr>\n",
       "            <tr>\n",
       "                        <th id=\"T_6e0d87e6_9805_11ea_aca6_acde48001122level0_row8\" class=\"row_heading level0 row8\" >8</th>\n",
       "                        <td id=\"T_6e0d87e6_9805_11ea_aca6_acde48001122row8_col0\" class=\"data row8 col0\" >USC00518838</td>\n",
       "                        <td id=\"T_6e0d87e6_9805_11ea_aca6_acde48001122row8_col1\" class=\"data row8 col1\" >UPPER WAHIAWA 874.3, HI US</td>\n",
       "                        <td id=\"T_6e0d87e6_9805_11ea_aca6_acde48001122row8_col2\" class=\"data row8 col2\" >511</td>\n",
       "            </tr>\n",
       "    </tbody></table>"
      ],
      "text/plain": [
       "<pandas.io.formats.style.Styler at 0x121ceeb10>"
      ]
     },
     "execution_count": 70,
     "metadata": {},
     "output_type": "execute_result"
    }
   ],
   "source": [
    "# Design a query to find the stations and observation counts in descending order.\n",
    "\n",
    "station_query_desc = session.query(Measurement.station, Station.name, func.count(Measurement.station)).\\\n",
    "                     filter(Measurement.station == Station.station).\\\n",
    "                     group_by(Measurement.station).\\\n",
    "                     order_by(func.count().desc()).\\\n",
    "                     all()\n",
    "\n",
    "# List all the stations and the counts in descending order\n",
    "\n",
    "station_query_desc_df = pd.DataFrame(station_query_desc, columns = [\"Station_ID\",\"Station_name\",\"tobs_count\"])\n",
    "\n",
    "station_query_desc_df.style.set_properties(**{'background-color': 'black','color': 'cyan',})"
   ]
  },
  {
   "cell_type": "code",
   "execution_count": 71,
   "metadata": {},
   "outputs": [
    {
     "name": "stdout",
     "output_type": "stream",
     "text": [
      "\n",
      "The station with highest number of observations is WAIHEE 837.5, HI US\n",
      "\n",
      "The lowest temperature recorded: 54.0\n",
      "The highest temperature recorded: 85.0\n",
      "The average temperature recorded: 71.66\n"
     ]
    }
   ],
   "source": [
    "# Print the station with highest number of observations\n",
    "\n",
    "most_active_station_id = station_query_desc[0][0]\n",
    "most_active_station_name = station_query_desc[0][1]\n",
    "\n",
    "print(f'\\nThe station with highest number of observations is {most_active_station_name}\\n')\n",
    "\n",
    "# Using the station id from the previous query, calculate the lowest temperature recorded, \n",
    "# highest temperature recorded, and average temperature of the most active station\n",
    "\n",
    "stats_query = session.query(func.min(Measurement.tobs),\n",
    "                            func.max(Measurement.tobs),\n",
    "                            func.avg(Measurement.tobs)).\\\n",
    "              filter(Measurement.station == most_active_station_id).all()\n",
    "\n",
    "print(f'The lowest temperature recorded: {stats_query[0][0]}')\n",
    "print(f'The highest temperature recorded: {stats_query[0][1]}')\n",
    "print(f'The average temperature recorded: {round(stats_query[0][2],2)}')"
   ]
  },
  {
   "cell_type": "markdown",
   "metadata": {},
   "source": [
    "___\n",
    "### _<font color = darkblue>Design a query to retrieve temperature observation data(TOBS) for the last 12 months<font>_\n",
    "___"
   ]
  },
  {
   "cell_type": "code",
   "execution_count": 72,
   "metadata": {
    "scrolled": true
   },
   "outputs": [
    {
     "data": {
      "text/html": [
       "<style  type=\"text/css\" >\n",
       "    #T_6ff291f0_9805_11ea_aca6_acde48001122row0_col0 {\n",
       "            background-color:  black;\n",
       "            color:  cyan;\n",
       "        }    #T_6ff291f0_9805_11ea_aca6_acde48001122row1_col0 {\n",
       "            background-color:  black;\n",
       "            color:  cyan;\n",
       "        }    #T_6ff291f0_9805_11ea_aca6_acde48001122row2_col0 {\n",
       "            background-color:  black;\n",
       "            color:  cyan;\n",
       "        }    #T_6ff291f0_9805_11ea_aca6_acde48001122row3_col0 {\n",
       "            background-color:  black;\n",
       "            color:  cyan;\n",
       "        }    #T_6ff291f0_9805_11ea_aca6_acde48001122row4_col0 {\n",
       "            background-color:  black;\n",
       "            color:  cyan;\n",
       "        }    #T_6ff291f0_9805_11ea_aca6_acde48001122row5_col0 {\n",
       "            background-color:  black;\n",
       "            color:  cyan;\n",
       "        }    #T_6ff291f0_9805_11ea_aca6_acde48001122row6_col0 {\n",
       "            background-color:  black;\n",
       "            color:  cyan;\n",
       "        }    #T_6ff291f0_9805_11ea_aca6_acde48001122row7_col0 {\n",
       "            background-color:  black;\n",
       "            color:  cyan;\n",
       "        }    #T_6ff291f0_9805_11ea_aca6_acde48001122row8_col0 {\n",
       "            background-color:  black;\n",
       "            color:  cyan;\n",
       "        }    #T_6ff291f0_9805_11ea_aca6_acde48001122row9_col0 {\n",
       "            background-color:  black;\n",
       "            color:  cyan;\n",
       "        }    #T_6ff291f0_9805_11ea_aca6_acde48001122row10_col0 {\n",
       "            background-color:  black;\n",
       "            color:  cyan;\n",
       "        }    #T_6ff291f0_9805_11ea_aca6_acde48001122row11_col0 {\n",
       "            background-color:  black;\n",
       "            color:  cyan;\n",
       "        }    #T_6ff291f0_9805_11ea_aca6_acde48001122row12_col0 {\n",
       "            background-color:  black;\n",
       "            color:  cyan;\n",
       "        }    #T_6ff291f0_9805_11ea_aca6_acde48001122row13_col0 {\n",
       "            background-color:  black;\n",
       "            color:  cyan;\n",
       "        }    #T_6ff291f0_9805_11ea_aca6_acde48001122row14_col0 {\n",
       "            background-color:  black;\n",
       "            color:  cyan;\n",
       "        }</style><table id=\"T_6ff291f0_9805_11ea_aca6_acde48001122\" ><thead>    <tr>        <th class=\"blank level0\" ></th>        <th class=\"col_heading level0 col0\" >Temperature</th>    </tr>    <tr>        <th class=\"index_name level0\" >Date</th>        <th class=\"blank\" ></th>    </tr></thead><tbody>\n",
       "                <tr>\n",
       "                        <th id=\"T_6ff291f0_9805_11ea_aca6_acde48001122level0_row0\" class=\"row_heading level0 row0\" >2016-08-23</th>\n",
       "                        <td id=\"T_6ff291f0_9805_11ea_aca6_acde48001122row0_col0\" class=\"data row0 col0\" >77</td>\n",
       "            </tr>\n",
       "            <tr>\n",
       "                        <th id=\"T_6ff291f0_9805_11ea_aca6_acde48001122level0_row1\" class=\"row_heading level0 row1\" >2016-08-24</th>\n",
       "                        <td id=\"T_6ff291f0_9805_11ea_aca6_acde48001122row1_col0\" class=\"data row1 col0\" >77</td>\n",
       "            </tr>\n",
       "            <tr>\n",
       "                        <th id=\"T_6ff291f0_9805_11ea_aca6_acde48001122level0_row2\" class=\"row_heading level0 row2\" >2016-08-25</th>\n",
       "                        <td id=\"T_6ff291f0_9805_11ea_aca6_acde48001122row2_col0\" class=\"data row2 col0\" >80</td>\n",
       "            </tr>\n",
       "            <tr>\n",
       "                        <th id=\"T_6ff291f0_9805_11ea_aca6_acde48001122level0_row3\" class=\"row_heading level0 row3\" >2016-08-26</th>\n",
       "                        <td id=\"T_6ff291f0_9805_11ea_aca6_acde48001122row3_col0\" class=\"data row3 col0\" >80</td>\n",
       "            </tr>\n",
       "            <tr>\n",
       "                        <th id=\"T_6ff291f0_9805_11ea_aca6_acde48001122level0_row4\" class=\"row_heading level0 row4\" >2016-08-27</th>\n",
       "                        <td id=\"T_6ff291f0_9805_11ea_aca6_acde48001122row4_col0\" class=\"data row4 col0\" >75</td>\n",
       "            </tr>\n",
       "            <tr>\n",
       "                        <th id=\"T_6ff291f0_9805_11ea_aca6_acde48001122level0_row5\" class=\"row_heading level0 row5\" >2016-08-28</th>\n",
       "                        <td id=\"T_6ff291f0_9805_11ea_aca6_acde48001122row5_col0\" class=\"data row5 col0\" >73</td>\n",
       "            </tr>\n",
       "            <tr>\n",
       "                        <th id=\"T_6ff291f0_9805_11ea_aca6_acde48001122level0_row6\" class=\"row_heading level0 row6\" >2016-08-29</th>\n",
       "                        <td id=\"T_6ff291f0_9805_11ea_aca6_acde48001122row6_col0\" class=\"data row6 col0\" >78</td>\n",
       "            </tr>\n",
       "            <tr>\n",
       "                        <th id=\"T_6ff291f0_9805_11ea_aca6_acde48001122level0_row7\" class=\"row_heading level0 row7\" >2016-08-30</th>\n",
       "                        <td id=\"T_6ff291f0_9805_11ea_aca6_acde48001122row7_col0\" class=\"data row7 col0\" >77</td>\n",
       "            </tr>\n",
       "            <tr>\n",
       "                        <th id=\"T_6ff291f0_9805_11ea_aca6_acde48001122level0_row8\" class=\"row_heading level0 row8\" >2016-08-31</th>\n",
       "                        <td id=\"T_6ff291f0_9805_11ea_aca6_acde48001122row8_col0\" class=\"data row8 col0\" >78</td>\n",
       "            </tr>\n",
       "            <tr>\n",
       "                        <th id=\"T_6ff291f0_9805_11ea_aca6_acde48001122level0_row9\" class=\"row_heading level0 row9\" >2016-09-01</th>\n",
       "                        <td id=\"T_6ff291f0_9805_11ea_aca6_acde48001122row9_col0\" class=\"data row9 col0\" >80</td>\n",
       "            </tr>\n",
       "            <tr>\n",
       "                        <th id=\"T_6ff291f0_9805_11ea_aca6_acde48001122level0_row10\" class=\"row_heading level0 row10\" >2016-09-02</th>\n",
       "                        <td id=\"T_6ff291f0_9805_11ea_aca6_acde48001122row10_col0\" class=\"data row10 col0\" >80</td>\n",
       "            </tr>\n",
       "            <tr>\n",
       "                        <th id=\"T_6ff291f0_9805_11ea_aca6_acde48001122level0_row11\" class=\"row_heading level0 row11\" >2016-09-03</th>\n",
       "                        <td id=\"T_6ff291f0_9805_11ea_aca6_acde48001122row11_col0\" class=\"data row11 col0\" >78</td>\n",
       "            </tr>\n",
       "            <tr>\n",
       "                        <th id=\"T_6ff291f0_9805_11ea_aca6_acde48001122level0_row12\" class=\"row_heading level0 row12\" >2016-09-04</th>\n",
       "                        <td id=\"T_6ff291f0_9805_11ea_aca6_acde48001122row12_col0\" class=\"data row12 col0\" >78</td>\n",
       "            </tr>\n",
       "            <tr>\n",
       "                        <th id=\"T_6ff291f0_9805_11ea_aca6_acde48001122level0_row13\" class=\"row_heading level0 row13\" >2016-09-05</th>\n",
       "                        <td id=\"T_6ff291f0_9805_11ea_aca6_acde48001122row13_col0\" class=\"data row13 col0\" >78</td>\n",
       "            </tr>\n",
       "            <tr>\n",
       "                        <th id=\"T_6ff291f0_9805_11ea_aca6_acde48001122level0_row14\" class=\"row_heading level0 row14\" >2016-09-06</th>\n",
       "                        <td id=\"T_6ff291f0_9805_11ea_aca6_acde48001122row14_col0\" class=\"data row14 col0\" >73</td>\n",
       "            </tr>\n",
       "    </tbody></table>"
      ],
      "text/plain": [
       "<pandas.io.formats.style.Styler at 0x1205026d0>"
      ]
     },
     "execution_count": 72,
     "metadata": {},
     "output_type": "execute_result"
    }
   ],
   "source": [
    "# Query the last 12 months of TOBS for the most active station\n",
    "\n",
    "tobs_query = session.query(Measurement.date, Measurement.tobs).\\\n",
    "             filter(Measurement.station == most_active_station_id).\\\n",
    "             filter(Measurement.date >= Year_Ago_Date).\\\n",
    "             all()         \n",
    "\n",
    "# Save the query results as a Pandas DataFrame\n",
    "\n",
    "tobs_df = pd.DataFrame(tobs_query, columns =['Date','Temperature'])\n",
    "\n",
    "\n",
    "# Set the 'Date' column as index & Sort the DataFrame by date\n",
    "\n",
    "tobs_df = tobs_df.set_index('Date').sort_index()\n",
    "\n",
    "tobs_df.head(15).style.set_properties(**{'background-color': 'black','color': 'cyan',})\n"
   ]
  },
  {
   "cell_type": "markdown",
   "metadata": {},
   "source": [
    "___\n",
    "### _<font color = darkblue>Plot the results as a histogram with bins=12<font>_\n",
    "___"
   ]
  },
  {
   "cell_type": "code",
   "execution_count": 75,
   "metadata": {
    "scrolled": false
   },
   "outputs": [
    {
     "data": {
      "image/png": "[encoded data removed]",
      "text/plain": [
       "<Figure size 936x432 with 1 Axes>"
      ]
     },
     "metadata": {},
     "output_type": "display_data"
    },
    {
     "data": {
      "text/plain": [
       "<Figure size 432x288 with 0 Axes>"
      ]
     },
     "metadata": {},
     "output_type": "display_data"
    }
   ],
   "source": [
    "tobs_df.plot(kind='hist',\n",
    "             bins = 12,\n",
    "             figsize = (13,6),\n",
    "             color='cyan',\n",
    "             edgecolor = 'c'\n",
    "            )\n",
    "\n",
    "# Incorporate other graph properties\n",
    "\n",
    "plt.title(\"Frequency of temperature for the past one year\",\n",
    "          fontname='Georgia',\n",
    "          fontsize = 22,\n",
    "          color = 'c',\n",
    "          pad = 20\n",
    "         )\n",
    "\n",
    "plt.ylabel(\"Frequency\",color = 'c', fontname='Comic Sans MS', fontsize = 18)\n",
    "\n",
    "plt.xlabel(\"Temperature\", color = 'c',fontname='Comic Sans MS', fontsize = 18)\n",
    "\n",
    "plt.legend(prop={'size': 14})\n",
    "\n",
    "plt.show()\n",
    "\n",
    "plt.savefig('Images/Station-histogram.png')"
   ]
  },
  {
   "cell_type": "markdown",
   "metadata": {},
   "source": [
    "___\n",
    "# _<font color = E50FB4>Bonus Challenge Assignment_\n",
    "___"
   ]
  },
  {
   "cell_type": "code",
   "execution_count": 76,
   "metadata": {},
   "outputs": [
    {
     "name": "stdout",
     "output_type": "stream",
     "text": [
      "[(62.0, 69.57142857142857, 74.0)]\n"
     ]
    }
   ],
   "source": [
    "# This function called `calc_temps` will accept start date and end date in the format '%Y-%m-%d' \n",
    "# and return the minimum, average, and maximum temperatures for that range of dates\n",
    "\n",
    "def calc_temps(start_date, end_date):\n",
    "    \n",
    "    stats_query = session.query(func.min(Measurement.tobs),\n",
    "                                func.avg(Measurement.tobs),\n",
    "                                func.max(Measurement.tobs)).\\\n",
    "                  filter(Measurement.date >= start_date).\\\n",
    "                  filter(Measurement.date <= end_date).\\\n",
    "                  all()\n",
    "\n",
    "    return stats_query\n",
    "\n",
    "# function usage example\n",
    "\n",
    "print(calc_temps('2012-02-28', '2012-03-05'))"
   ]
  },
  {
   "cell_type": "code",
   "execution_count": 77,
   "metadata": {},
   "outputs": [
    {
     "name": "stdout",
     "output_type": "stream",
     "text": [
      "Temp_stats for dates between 2015-12-26 & 2016-01-02:\n",
      "\n",
      "Min Temperature: 62.0 \n",
      "Avg Temperature: 71.8 \n",
      "Max Temperature: 77.0\n"
     ]
    }
   ],
   "source": [
    "# Use your previous function `calc_temps` to calculate the tmin, tavg, and tmax \n",
    "# for your trip using the previous year's data for those same dates.\n",
    "\n",
    "start_date = '2016-12-25'\n",
    "end_date = '2017-01-01'\n",
    "\n",
    "prev_year_start = datetime.strptime(start_date,\"%Y-%m-%d\").date() - timedelta(days=365)\n",
    "\n",
    "prev_year_end = datetime.strptime(end_date,\"%Y-%m-%d\").date() - timedelta(days=365)\n",
    "\n",
    "print(f'Temp_stats for dates between {prev_year_start} & {prev_year_end}:')\n",
    "\n",
    "Min_temp, Avg_temp, Max_temp = calc_temps(prev_year_start, prev_year_end)[0]\n",
    "\n",
    "print(f'\\nMin Temperature: {Min_temp} \\nAvg Temperature: {round(Avg_temp,1)} \\nMax Temperature: {Max_temp}')"
   ]
  },
  {
   "cell_type": "code",
   "execution_count": 78,
   "metadata": {},
   "outputs": [
    {
     "data": {
      "image/png": "[encoded data removed]",
      "text/plain": [
       "<Figure size 216x432 with 1 Axes>"
      ]
     },
     "metadata": {},
     "output_type": "display_data"
    },
    {
     "data": {
      "text/plain": [
       "<Figure size 576x396 with 0 Axes>"
      ]
     },
     "metadata": {},
     "output_type": "display_data"
    }
   ],
   "source": [
    "# Plot the results from your previous query as a bar chart. \n",
    "# Use \"Trip Avg Temp\" as your Title\n",
    "# Use the average temperature for the y value\n",
    "# Use the peak-to-peak (tmax-tmin) value as the y error bar (yerr)\n",
    "\n",
    "style.use('seaborn')\n",
    "\n",
    "plt.figure(figsize = (3,6))\n",
    "\n",
    "plt.bar(1, Avg_temp, yerr = (Max_temp - Min_temp), width = 0.1, color = 'coral', ecolor = \"k\")\n",
    "\n",
    "plt.xticks([])\n",
    "\n",
    "plt.title(\"Trip Avg Temp\", fontname='Comic Sans MS', fontsize = 16, color = 'k')\n",
    "plt.ylabel(\"Temp(F)\", fontname='Comic Sans MS', fontsize = 15, color = 'k')\n",
    "\n",
    "plt.show()\n",
    "\n",
    "plt.savefig('Images/Temperature.png')"
   ]
  },
  {
   "cell_type": "code",
   "execution_count": 38,
   "metadata": {},
   "outputs": [
    {
     "name": "stdout",
     "output_type": "stream",
     "text": [
      "('USC00519523', 'WAIMANALO EXPERIMENTAL FARM, HI US', 21.33556, -157.71139, 19.5, 2326.1899999999614)\n",
      "('USC00519397', 'WAIKIKI 717.2, HI US', 21.2716, -157.8168, 3.0, 2326.1899999999614)\n",
      "('USC00519281', 'WAIHEE 837.5, HI US', 21.45167, -157.84888999999998, 32.9, 2326.1899999999614)\n",
      "('USC00518838', 'UPPER WAHIAWA 874.3, HI US', 21.4992, -158.0111, 306.6, 2326.1899999999614)\n",
      "('USC00517948', 'PEARL CITY, HI US', 21.3934, -157.9751, 11.9, 2326.1899999999614)\n",
      "('USC00516128', 'MANOA LYON ARBO 785.2, HI US', 21.3331, -157.8025, 152.4, 2326.1899999999614)\n",
      "('USC00514830', 'KUALOA RANCH HEADQUARTERS 886.9, HI US', 21.5213, -157.8374, 7.0, 2326.1899999999614)\n",
      "('USC00513117', 'KANEOHE 838.1, HI US', 21.4234, -157.8015, 14.6, 2326.1899999999614)\n",
      "('USC00511918', 'HONOLULU OBSERVATORY 702.2, HI US', 21.3152, -157.9992, 0.9, 2326.1899999999614)\n"
     ]
    }
   ],
   "source": [
    "# Calculate the total amount of rainfall per weather station for your trip dates \n",
    "# using the previous year's matching dates.\n",
    "# Sort this in descending order by precipitation amount \n",
    "# and list the station, name, latitude, longitude, and elevation\n",
    "\n",
    "sel = [Station.station, \n",
    "       Station.name, \n",
    "       Station.latitude,\n",
    "       Station.longitude,\n",
    "       Station.elevation,\n",
    "       func.sum(Measurement.prcp)\n",
    "      ]\n",
    "\n",
    "\n",
    "rainfall_query = session.query(*sel).\\\n",
    "                 filter(Measurement.station >= prev_year_start).\\\n",
    "                 filter(Measurement.date <= prev_year_end).\\\n",
    "                 group_by(Station.name).\\\n",
    "                 order_by(func.sum(Measurement.prcp).desc()).\\\n",
    "                 all()\n",
    "\n",
    "for row in rainfall_query:\n",
    "    print(row)\n"
   ]
  },
  {
   "cell_type": "code",
   "execution_count": 39,
   "metadata": {},
   "outputs": [
    {
     "data": {
      "text/plain": [
       "[(62.0, 69.15384615384616, 77.0)]"
      ]
     },
     "execution_count": 39,
     "metadata": {},
     "output_type": "execute_result"
    }
   ],
   "source": [
    "# Create a query that will calculate the daily normals \n",
    "# (i.e. the averages for tmin, tmax, and tavg for all historic data matching a specific month and day)\n",
    "\n",
    "def daily_normals(date):\n",
    "    \n",
    "    sel = [func.min(Measurement.tobs),\n",
    "           func.avg(Measurement.tobs),\n",
    "           func.max(Measurement.tobs)]\n",
    "    \n",
    "    \n",
    "    query = session.query(*sel).filter(func.strftime(\"%m-%d\", Measurement.date) == date).all()\n",
    "    \n",
    "    return query\n",
    "\n",
    "# function usage example\n",
    "\n",
    "daily_normals(\"01-01\")"
   ]
  },
  {
   "cell_type": "code",
   "execution_count": 44,
   "metadata": {},
   "outputs": [
    {
     "name": "stdout",
     "output_type": "stream",
     "text": [
      "\n",
      "Trip dates:\n",
      "\n",
      "DatetimeIndex(['2017-12-25', '2017-12-26', '2017-12-27', '2017-12-28',\n",
      "               '2017-12-29', '2017-12-30', '2017-12-31'],\n",
      "              dtype='datetime64[ns]', freq='D')\n",
      "\n",
      "Trip Month-Day List: \n",
      "\n",
      "Index(['12-25', '12-26', '12-27', '12-28', '12-29', '12-30', '12-31'], dtype='object')\n",
      "(60.0, 71.75, 79.0)\n",
      "(63.0, 71.44680851063829, 77.0)\n",
      "(62.0, 71.91666666666667, 79.0)\n",
      "(62.0, 70.52083333333333, 77.0)\n",
      "(57.0, 70.29166666666667, 78.0)\n",
      "(63.0, 69.86363636363636, 76.0)\n",
      "(56.0, 68.27906976744185, 77.0)\n"
     ]
    }
   ],
   "source": [
    "# calculate the daily normals for your trip\n",
    "# push each tuple of calculations into a list called `normals`\n",
    "\n",
    "# Set the start and end date of the trip\n",
    "\n",
    "trip_start_date = '2017-12-25'\n",
    "trip_end_date = '2017-12-31'\n",
    "\n",
    "# Use the start and end date to create a range of dates\n",
    "\n",
    "trip_dates = pd.date_range(start = trip_start_date, end = trip_end_date, freq = 'D')\n",
    "\n",
    "print(f'\\nTrip dates:\\n\\n{trip_dates}')\n",
    "\n",
    "# Strip off the year and save a list of %m-%d strings\n",
    "\n",
    "trip_month_day = trip_dates.strftime(\"%m-%d\")\n",
    "\n",
    "print(f'\\nTrip Month-Day List: \\n\\n{trip_month_day}')\n",
    "\n",
    "\n",
    "# Loop through the list of %m-%d strings and calculate the normals for each date\n",
    "\n",
    "normals = []\n",
    "\n",
    "for row in trip_month_day:\n",
    "    normals.append(*daily_normals(row))\n",
    "    print(*daily_normals(row))"
   ]
  },
  {
   "cell_type": "code",
   "execution_count": 45,
   "metadata": {},
   "outputs": [
    {
     "ename": "NameError",
     "evalue": "name 'date_range' is not defined",
     "output_type": "error",
     "traceback": [
      "\u001b[0;31m---------------------------------------------------------------------------\u001b[0m",
      "\u001b[0;31mNameError\u001b[0m                                 Traceback (most recent call last)",
      "\u001b[0;32m<ipython-input-45-5396c5f085a9>\u001b[0m in \u001b[0;36m<module>\u001b[0;34m\u001b[0m\n\u001b[1;32m      5\u001b[0m \u001b[0;31m# Add the `trip_dates` range as the `date` index\u001b[0m\u001b[0;34m\u001b[0m\u001b[0;34m\u001b[0m\u001b[0;34m\u001b[0m\u001b[0m\n\u001b[1;32m      6\u001b[0m \u001b[0;34m\u001b[0m\u001b[0m\n\u001b[0;32m----> 7\u001b[0;31m \u001b[0mdf\u001b[0m\u001b[0;34m[\u001b[0m\u001b[0;34m'Date'\u001b[0m\u001b[0;34m]\u001b[0m \u001b[0;34m=\u001b[0m \u001b[0mdate_range\u001b[0m\u001b[0;34m\u001b[0m\u001b[0;34m\u001b[0m\u001b[0m\n\u001b[0m\u001b[1;32m      8\u001b[0m \u001b[0;34m\u001b[0m\u001b[0m\n\u001b[1;32m      9\u001b[0m \u001b[0mdf\u001b[0m \u001b[0;34m=\u001b[0m \u001b[0mdf\u001b[0m\u001b[0;34m.\u001b[0m\u001b[0mset_index\u001b[0m\u001b[0;34m(\u001b[0m\u001b[0;34m\"Date\"\u001b[0m\u001b[0;34m)\u001b[0m\u001b[0;34m\u001b[0m\u001b[0;34m\u001b[0m\u001b[0m\n",
      "\u001b[0;31mNameError\u001b[0m: name 'date_range' is not defined"
     ]
    }
   ],
   "source": [
    "# Load the previous query results into a Pandas DataFrame\n",
    "\n",
    "df = pd.DataFrame(normals, columns=[\"Min Temp\",\"Avg Temp\",\"Max Temp\"])\n",
    "\n",
    "# Add the `trip_dates` range as the `date` index\n",
    "\n",
    "df['Date'] = date_range\n",
    "\n",
    "df = df.set_index(\"Date\")\n",
    "\n",
    "df"
   ]
  },
  {
   "cell_type": "code",
   "execution_count": 46,
   "metadata": {},
   "outputs": [
    {
     "data": {
      "image/png": "[encoded data removed]",
      "text/plain": [
       "<Figure size 864x504 with 1 Axes>"
      ]
     },
     "metadata": {},
     "output_type": "display_data"
    },
    {
     "data": {
      "text/plain": [
       "<Figure size 576x396 with 0 Axes>"
      ]
     },
     "metadata": {},
     "output_type": "display_data"
    }
   ],
   "source": [
    "# Plot the daily normals as an area plot with `stacked=False`\n",
    "\n",
    "#import seaborn as sns\n",
    "#pal = sns.color_palette(\"Set1\")\n",
    "\n",
    "pal = [\"#9b59b6\", \"#e74c3c\", \"#34495e\", \"#2ecc71\"]\n",
    "\n",
    "df.plot.area(figsize = (12,7), stacked = False, x_compat=True, color = pal, alpha=.4) \n",
    "\n",
    "plt.title(\"Daily Normals\",color = 'purple', fontname='Comic Sans MS', fontsize = 22, pad = 25)\n",
    "\n",
    "plt.ylabel(\"Temperature\",color = 'purple', fontname='Comic Sans MS', fontsize = 20)\n",
    "\n",
    "plt.xlabel(\"Date\", color = 'purple',fontname='Comic Sans MS', fontsize = 20)\n",
    "\n",
    "\n",
    "plt.legend(prop={'size': 14},loc = 'lower right',facecolor = 'k')\n",
    "\n",
    "plt.tight_layout()\n",
    "\n",
    "plt.show()\n",
    "\n",
    "plt.savefig(\"Images/DailyNormals.png\")"
   ]
  },
  {
   "cell_type": "code",
   "execution_count": null,
   "metadata": {},
   "outputs": [],
   "source": []
  },
  {
   "cell_type": "code",
   "execution_count": null,
   "metadata": {},
   "outputs": [],
   "source": []
  },
  {
   "cell_type": "code",
   "execution_count": null,
   "metadata": {},
   "outputs": [],
   "source": []
  },
  {
   "cell_type": "code",
   "execution_count": null,
   "metadata": {},
   "outputs": [],
   "source": []
  },
  {
   "cell_type": "code",
   "execution_count": 47,
   "metadata": {},
   "outputs": [
    {
     "name": "stdout",
     "output_type": "stream",
     "text": [
      "('2017-08-23',) <class 'sqlalchemy.util._collections.result'>\n"
     ]
    }
   ],
   "source": [
    "date_query = session.query(Measurement.date).order_by(Measurement.date.desc()).first()\n",
    "print(date_query, type(date_query))"
   ]
  },
  {
   "cell_type": "code",
   "execution_count": 48,
   "metadata": {},
   "outputs": [
    {
     "name": "stdout",
     "output_type": "stream",
     "text": [
      "2017-08-23 <class 'str'>\n"
     ]
    }
   ],
   "source": [
    "date_query,= session.query(Measurement.date).order_by(Measurement.date.desc()).first()\n",
    "print(date_query, type(date_query))\n"
   ]
  }
 ],
 "metadata": {
  "kernel_info": {
   "name": "python3"
  },
  "kernelspec": {
   "display_name": "Python 3",
   "language": "python",
   "name": "python3"
  },
  "language_info": {
   "codemirror_mode": {
    "name": "ipython",
    "version": 3
   },
   "file_extension": ".py",
   "mimetype": "text/x-python",
   "name": "python",
   "nbconvert_exporter": "python",
   "pygments_lexer": "ipython3",
   "version": "3.7.4"
  },
  "nteract": {
   "version": "0.12.3"
  },
  "varInspector": {
   "cols": {
    "lenName": 16,
    "lenType": 16,
    "lenVar": 40
   },
   "kernels_config": {
    "python": {
     "delete_cmd_postfix": "",
     "delete_cmd_prefix": "del ",
     "library": "var_list.py",
     "varRefreshCmd": "print(var_dic_list())"
    },
    "r": {
     "delete_cmd_postfix": ") ",
     "delete_cmd_prefix": "rm(",
     "library": "var_list.r",
     "varRefreshCmd": "cat(var_dic_list()) "
    }
   },
   "types_to_exclude": [
    "module",
    "function",
    "builtin_function_or_method",
    "instance",
    "_Feature"
   ],
   "window_display": false
  }
 },
 "nbformat": 4,
 "nbformat_minor": 2
}
